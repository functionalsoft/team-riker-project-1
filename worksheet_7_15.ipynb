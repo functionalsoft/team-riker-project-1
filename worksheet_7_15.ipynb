{
 "cells": [
  {
   "cell_type": "code",
   "execution_count": 13,
   "metadata": {},
   "outputs": [
    {
     "name": "stderr",
     "output_type": "stream",
     "text": [
      "/var/folders/lp/71p77wmn3x7dxlg4mnwx61cw0000gq/T/ipykernel_28535/450316018.py:12: MarkupResemblesLocatorWarning: The input looks more like a filename than markup. You may want to open this file and pass the filehandle into Beautiful Soup.\n",
      "  return BeautifulSoup(text, \"html.parser\").get_text()\n",
      "/var/folders/lp/71p77wmn3x7dxlg4mnwx61cw0000gq/T/ipykernel_28535/450316018.py:12: MarkupResemblesLocatorWarning: The input looks more like a filename than markup. You may want to open this file and pass the filehandle into Beautiful Soup.\n",
      "  return BeautifulSoup(text, \"html.parser\").get_text()\n",
      "/var/folders/lp/71p77wmn3x7dxlg4mnwx61cw0000gq/T/ipykernel_28535/450316018.py:12: MarkupResemblesLocatorWarning: The input looks more like a filename than markup. You may want to open this file and pass the filehandle into Beautiful Soup.\n",
      "  return BeautifulSoup(text, \"html.parser\").get_text()\n",
      "/var/folders/lp/71p77wmn3x7dxlg4mnwx61cw0000gq/T/ipykernel_28535/450316018.py:12: MarkupResemblesLocatorWarning: The input looks more like a filename than markup. You may want to open this file and pass the filehandle into Beautiful Soup.\n",
      "  return BeautifulSoup(text, \"html.parser\").get_text()\n",
      "/var/folders/lp/71p77wmn3x7dxlg4mnwx61cw0000gq/T/ipykernel_28535/450316018.py:12: MarkupResemblesLocatorWarning: The input looks more like a filename than markup. You may want to open this file and pass the filehandle into Beautiful Soup.\n",
      "  return BeautifulSoup(text, \"html.parser\").get_text()\n",
      "/var/folders/lp/71p77wmn3x7dxlg4mnwx61cw0000gq/T/ipykernel_28535/450316018.py:12: MarkupResemblesLocatorWarning: The input looks more like a filename than markup. You may want to open this file and pass the filehandle into Beautiful Soup.\n",
      "  return BeautifulSoup(text, \"html.parser\").get_text()\n",
      "/var/folders/lp/71p77wmn3x7dxlg4mnwx61cw0000gq/T/ipykernel_28535/450316018.py:12: MarkupResemblesLocatorWarning: The input looks more like a filename than markup. You may want to open this file and pass the filehandle into Beautiful Soup.\n",
      "  return BeautifulSoup(text, \"html.parser\").get_text()\n",
      "/var/folders/lp/71p77wmn3x7dxlg4mnwx61cw0000gq/T/ipykernel_28535/450316018.py:12: MarkupResemblesLocatorWarning: The input looks more like a filename than markup. You may want to open this file and pass the filehandle into Beautiful Soup.\n",
      "  return BeautifulSoup(text, \"html.parser\").get_text()\n"
     ]
    }
   ],
   "source": [
    "import pandas as pd\n",
    "from prophet import Prophet\n",
    "import datetime as dt\n",
    "import numpy as np\n",
    "from bs4 import BeautifulSoup\n",
    "import markdown\n",
    "import string\n",
    "import re\n",
    "import matplotlib.pyplot as plt\n",
    "\n",
    "def remove_html_tags(text):\n",
    "    return BeautifulSoup(text, \"html.parser\").get_text()\n",
    "\n",
    "# Function to remove Markdown\n",
    "def remove_markdown(text):\n",
    "    html = markdown.markdown(text)\n",
    "    return BeautifulSoup(html, \"html.parser\").get_text()\n",
    "\n",
    "def clean_row(row):\n",
    "    return row.apply(lambda x: remove_markdown(remove_html_tags(x)) if isinstance(x, str) else x)\n",
    "\n",
    "def clean_text(text):\n",
    "    text = re.sub(r'-', ' ', text)\n",
    "    # Remove punctuation\n",
    "    text = text.translate(str.maketrans('', '', string.punctuation))\n",
    "    # Convert to lowercase\n",
    "    text = text.lower()\n",
    "    # Replace spaces with dashes\n",
    "    text = re.sub(r'\\s+', '-', text)\n",
    "    return text\n",
    "\n",
    "mhs_2016 = pd.read_csv(\"resources/2016.csv\")\n",
    "mhs_2016 = mhs_2016.apply(clean_row, axis=1)\n",
    "mhs_2016.columns = [clean_text(col) for col in mhs_2016.columns]\n",
    "mhs_2016.reset_index(drop=True, inplace=True)\n",
    "\n",
    "mhs_2017 = pd.read_csv(\"resources/2017.csv\")\n",
    "mhs_2017 = mhs_2017.apply(clean_row, axis=1)\n",
    "mhs_2017.columns = [clean_text(col) for col in mhs_2017.columns]\n",
    "mhs_2017.reset_index(drop=True, inplace=True)\n",
    "\n",
    "mhs_2018 = pd.read_csv(\"resources/2018.csv\")\n",
    "mhs_2018 = mhs_2018.apply(clean_row, axis=1)\n",
    "mhs_2018.columns = [clean_text(col) for col in mhs_2018.columns]\n",
    "mhs_2018.reset_index(drop=True, inplace=True)\n",
    "\n",
    "mhs_2019 = pd.read_csv(\"resources/2019.csv\")\n",
    "mhs_2019 = mhs_2019.apply(clean_row, axis=1)\n",
    "mhs_2019.columns = [clean_text(col) for col in mhs_2019.columns]\n",
    "mhs_2019.reset_index(drop=True, inplace=True)\n",
    "\n",
    "mhs_2020 = pd.read_csv(\"resources/2020.csv\")\n",
    "mhs_2020 = mhs_2020.apply(clean_row, axis=1)\n",
    "mhs_2020.columns = [clean_text(col) for col in mhs_2020.columns]\n",
    "mhs_2020.reset_index(drop=True, inplace=True)\n",
    "\n",
    "mhs_2021 = pd.read_csv(\"resources/2021.csv\")\n",
    "mhs_2021 = mhs_2021.apply(clean_row, axis=1)\n",
    "mhs_2021.columns = [clean_text(col) for col in mhs_2021.columns]\n",
    "mhs_2021.reset_index(drop=True, inplace=True)\n",
    "\n",
    "mhs_2022 = pd.read_csv(\"resources/2022.csv\")\n",
    "mhs_2022 = mhs_2022.apply(clean_row, axis=1)\n",
    "mhs_2022.columns = [clean_text(col) for col in mhs_2022.columns]\n",
    "mhs_2022.reset_index(drop=True, inplace=True)\n",
    "\n",
    "mhs_2023 = pd.read_csv(\"resources/2023.csv\")\n",
    "mhs_2023 = mhs_2023.apply(clean_row, axis=1)\n",
    "mhs_2023.columns = [clean_text(col) for col in mhs_2023.columns]\n",
    "mhs_2023.reset_index(drop=True, inplace=True)\n",
    "\n"
   ]
  },
  {
   "cell_type": "code",
   "execution_count": 20,
   "metadata": {},
   "outputs": [],
   "source": [
    "# mhs_merged = pd.concat([mhs_2016, mhs_2017, mhs_2018, mhs_2019, mhs_2020, mhs_2021, mhs_2022, mhs_2023], ignore_index=True)\n",
    "# mhs_merged.head()"
   ]
  }
 ],
 "metadata": {
  "kernelspec": {
   "display_name": "Python 3 (ipykernel)",
   "language": "python",
   "name": "python3"
  },
  "language_info": {
   "codemirror_mode": {
    "name": "ipython",
    "version": 3
   },
   "file_extension": ".py",
   "mimetype": "text/x-python",
   "name": "python",
   "nbconvert_exporter": "python",
   "pygments_lexer": "ipython3",
   "version": "3.11.7"
  }
 },
 "nbformat": 4,
 "nbformat_minor": 2
}
