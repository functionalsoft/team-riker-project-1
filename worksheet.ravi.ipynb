{
  "cells": [
    {
      "cell_type": "code",
      "execution_count": 109,
      "metadata": {
        "id": "J9-wSnAiK92e"
      },
      "outputs": [],
      "source": [
        "import pandas as pd\n",
        "from prophet import Prophet\n",
        "import datetime as dt\n",
        "import numpy as np\n",
        "from bs4 import BeautifulSoup\n",
        "import markdown\n",
        "import string\n",
        "import re\n",
        "import matplotlib.pyplot as plt\n",
        "\n",
        "pd.set_option('display.max_columns', None)\n",
        "\n",
        "def remove_html_tags(text):\n",
        "    return BeautifulSoup(text, \"html.parser\").get_text()\n",
        "\n",
        "# Function to remove Markdown\n",
        "def remove_markdown(text):\n",
        "    html = markdown.markdown(text)\n",
        "    return BeautifulSoup(html, \"html.parser\").get_text()\n",
        "\n",
        "def clean_row(row):\n",
        "    return row.apply(lambda x: remove_markdown(remove_html_tags(x)) if isinstance(x, str) else x)\n",
        "\n",
        "def clean_text(text):\n",
        "    text = re.sub(r'-', ' ', text)\n",
        "    text = re.sub(r'#', 'unique_column_heading', text)\n",
        "    text = re.sub(r'None', 'unique_column_heading', text)\n",
        "    text = re.sub(r'<strong>', '', text)\n",
        "    text = re.sub(r'</strong>', ' ', text)\n",
        "    text = re.sub(r'<em>', ' ', text)\n",
        "    text = re.sub(r'</em>', ' ', text)\n",
        "    # Remove punctuation\n",
        "    text = text.translate(str.maketrans('', '', string.punctuation))\n",
        "    # Convert to lowercase\n",
        "    text = text.lower()\n",
        "    # Replace spaces with dashes\n",
        "    text = re.sub(r'\\s+', '-', text)\n",
        "    return text\n",
        "\n",
        "def preprocess_df(df):\n",
        "    df = df.astype(str)\n",
        "    df = df.reset_index(drop=True)\n",
        "    return df\n",
        "\n",
        "def merge_columns(df: pd.DataFrame) -> pd.DataFrame:\n",
        "    merged_columns = {}\n",
        "\n",
        "    # Iterate through columns\n",
        "    for col in df.columns:\n",
        "        if col in merged_columns:\n",
        "            merged_columns[col] = merged_columns[col].fillna('') + ' ' + df[col].fillna('')\n",
        "        else:\n",
        "            merged_columns[col] = df[col].fillna('')\n",
        "\n",
        "    merged_df = pd.DataFrame(merged_columns)\n",
        "\n",
        "    return merged_df\n"
      ]
    },
    {
      "cell_type": "code",
      "execution_count": 110,
      "metadata": {
        "colab": {
          "base_uri": "https://localhost:8080/",
          "height": 707
        },
        "id": "v9rZGpi5K-Ys",
        "outputId": "d0b70dd0-b6ca-4b11-f6fd-fb1ff69388fe"
      },
      "outputs": [
        {
          "name": "stderr",
          "output_type": "stream",
          "text": [
            "/var/folders/lp/71p77wmn3x7dxlg4mnwx61cw0000gq/T/ipykernel_35434/2876397856.py:14: MarkupResemblesLocatorWarning: The input looks more like a filename than markup. You may want to open this file and pass the filehandle into Beautiful Soup.\n",
            "  return BeautifulSoup(text, \"html.parser\").get_text()\n",
            "/var/folders/lp/71p77wmn3x7dxlg4mnwx61cw0000gq/T/ipykernel_35434/2876397856.py:14: MarkupResemblesLocatorWarning: The input looks more like a filename than markup. You may want to open this file and pass the filehandle into Beautiful Soup.\n",
            "  return BeautifulSoup(text, \"html.parser\").get_text()\n"
          ]
        },
        {
          "name": "stdout",
          "output_type": "stream",
          "text": [
            "['uniquecolumnheading', 'self-employed', 'numb-employees', 'company-tech', 'role-tech', 'mh-benefits', 'know-mh-options', 'discussed-mh', 'mh-resources', 'anonymity-protected', 'mh-leave', 'mh-negative-consequences', 'ph-negative-consequences', 'comfortable-coworkers', 'comfortable-supervisors', 'mh-seriousness', 'observed-negative', 'do-you-have-medical-coverage-private-insurance-or-state-provided-which-includes-treatment-of-mental-health-issues', 'know-local-resources', 'reveal-clients']\n",
            "['mh-impact-clients', 'reveal-coworkers', 'mh-impact-coworkers', 'affect-job', 'percent-affect', 'previous-companies', 'mh-benefits', 'aware-benefits', 'previous-discussed-mh', 'previous-mh-resources', 'previous-anonymity-protected', 'previous-mh-negative-consequences', 'previous-ph-negative-consequences', 'previous-comfortable-coworkers', 'previous-comfortable-supervisors', 'previous-mh-seriousness', 'previous-observed-negative', 'tell-physical-issue', 'why-or-why-not-physical-issue', 'tell-mental-issue']\n",
            "['why-or-why-not-mental-issue', 'mh-hurt-career', 'mh-view-negatively', 'share-mh-family', 'observed-bad-response', 'less-likely-reveal', 'family-history-mh', 'past-mh-disorder', 'current-mh-disorder', 'conditions-diagnosed', 'conditions-believe', 'been-diagnosed', 'been-diagnosed-with', 'sought-treatment', 'if-you-have-a-mental-health-issue-do-you-feel-that-it-interferes-with-your-work-when-being-treated-effectively', 'interferes-when-not-treated', 'age', 'gender', 'live-country', 'live-state']\n",
            "['work-country', 'work-state', 'position', 'remote', 'year']\n"
          ]
        }
      ],
      "source": [
        "mhs_2016 = pd.read_csv(\"resources/2016.csv\", index_col=False)\n",
        "mhs_2016[\"year\"] = 2016\n",
        "mhs_2016.columns = [clean_text(col) for col in mhs_2016.columns]\n",
        "mhs_2016 = mhs_2016.apply(clean_row, axis=1)\n",
        "mhs_2016 = preprocess_df(mhs_2016)\n",
        "\n",
        "column_mapping = {\n",
        "    \"are-you-self-employed\": \"self-employed\",\n",
        "    \"how-many-employees-does-your-company-or-organization-have\": \"numb-employees\",\n",
        "    \"is-your-employer-primarily-a-tech-companyorganization\": \"company-tech\",\n",
        "    \"is-your-primary-role-within-your-company-related-to-techit\": \"role-tech\",\n",
        "    \"does-your-employer-provide-mental-health-benefits-as-part-of-healthcare-coverage\": \"mh-benefits\",\n",
        "    \"do-you-know-the-options-for-mental-health-care-available-under-your-employer-provided-coverage\": \"know-mh-options\",\n",
        "    \"has-your-employer-ever-formally-discussed-mental-health-for-example-as-part-of-a-wellness-campaign-or-other-official-communication\": \"discussed-mh\",\n",
        "    \"does-your-employer-offer-resources-to-learn-more-about-mental-health-concerns-and-options-for-seeking-help\": \"mh-resources\",\n",
        "    \"is-your-anonymity-protected-if-you-choose-to-take-advantage-of-mental-health-or-substance-abuse-treatment-resources-provided-by-your-employer\": \"anonymity-protected\",\n",
        "    \"if-a-mental-health-issue-prompted-you-to-request-a-medical-leave-from-work-asking-for-that-leave-would-be\": \"mh-leave\",\n",
        "    \"do-you-think-that-discussing-a-mental-health-disorder-with-your-employer-would-have-negative-consequences\": \"mh-negative-consequences\",\n",
        "    \"do-you-think-that-discussing-a-physical-health-issue-with-your-employer-would-have-negative-consequences\": \"ph-negative-consequences\",\n",
        "    \"would-you-feel-comfortable-discussing-a-mental-health-disorder-with-your-coworkers\": \"comfortable-coworkers\",\n",
        "    \"would-you-feel-comfortable-discussing-a-mental-health-disorder-with-your-direct-supervisors\": \"comfortable-supervisors\",\n",
        "    \"do-you-feel-that-your-employer-takes-mental-health-as-seriously-as-physical-health\": \"mh-seriousness\",\n",
        "    \"have-you-heard-of-or-observed-negative-consequences-for-co-workers-who-have-been-open-about-mental-health-issues-in-your-workplace\": \"observed-negative\",\n",
        "    \"do-you-have-medical-coverage-private-insurance-or-state-prov ided-which-includes-treatment-of-mental-health-issues\": \"mh-coverage\",\n",
        "    \"do-you-know-local-or-online-resources-to-seek-help-for-a-mental-health-disorder\": \"know-local-resources\",\n",
        "    \"if-you-have-been-diagnosed-or-treated-for-a-mental-health-disorder-do-you-ever-reveal-this-to-clients-or-business-contacts\": \"reveal-clients\",\n",
        "    \"if-you-have-revealed-a-mental-health-issue-to-a-client-or-business-contact-do-you-believe-this-has-impacted-you-negatively\": \"mh-impact-clients\",\n",
        "    \"if-you-have-been-diagnosed-or-treated-for-a-mental-health-disorder-do-you-ever-reveal-this-to-coworkers-or-employees\": \"reveal-coworkers\",\n",
        "    \"if-you-have-revealed-a-mental-health-issue-to-a-coworker-or-employee-do-you-believe-this-has-impacted-you-negatively\": \"mh-impact-coworkers\",\n",
        "    \"do-you-believe-your-productivity-is-ever-affected-by-a-mental-health-issue\": \"affect-job\",\n",
        "    \"if-yes-what-percentage-of-your-work-time-time-performing-primary-or-secondary-job-functions-is-affected-by-a-mental-health-issue\": \"percent-affect\",\n",
        "    \"do-you-have-previous-employers\": \"previous-companies\",\n",
        "    \"have-your-previous-employers-provided-mental-health-benefits\": \"mh-benefits\",\n",
        "    \"were-you-aware-of-the-options-for-mental-health-care-provided-by-your-previous-employers\": \"aware-benefits\",\n",
        "    \"did-your-previous-employers-ever-formally-discuss-mental-health-as-part-of-a-wellness-campaign-or-other-official-communication\": \"previous-discussed-mh\",\n",
        "    \"did-your-previous-employers-provide-resources-to-learn-more-about-mental-health-issues-and-how-to-seek-help\": \"previous-mh-resources\",\n",
        "    \"was-your-anonymity-protected-if-you-chose-to-take-advantage-of-mental-health-or-substance-abuse-treatment-resources-with-previous-employers\": \"previous-anonymity-protected\",\n",
        "    \"do-you-think-that-discussing-a-mental-health-disorder-with-previous-employers-would-have-negative-consequences\": \"previous-mh-negative-consequences\",\n",
        "    \"do-you-think-that-discussing-a-physical-health-issue-with-previous-employers-would-have-negative-consequences\": \"previous-ph-negative-consequences\",\n",
        "    \"would-you-have-been-willing-to-discuss-a-mental-health-issue-with-your-previous-co-workers\": \"previous-comfortable-coworkers\",\n",
        "    \"would-you-have-been-willing-to-discuss-a-mental-health-issue-with-your-direct-supervisors\": \"previous-comfortable-supervisors\",\n",
        "    \"did-you-feel-that-your-previous-employers-took-mental-health-as-seriously-as-physical-health\": \"previous-mh-seriousness\",\n",
        "    \"did-you-hear-of-or-observe-negative-consequences-for-co-workers-with-mental-health-issues-in-your-previous-workplaces\": \"previous-observed-negative\",\n",
        "    \"would-you-be-willing-to-bring-up-a-physical-health-issue-with-a-potential-employer-in-an-interview\": \"tell-physical-issue\",\n",
        "    \"why-or-why-not\": \"why-or-why-not-physical-issue\",\n",
        "    \"would-you-bring-up-a-mental-health-issue-with-a-potential-employer-in-an-interview\": \"tell-mental-issue\",\n",
        "    \"why-or-why-not1\": \"why-or-why-not-mental-issue\",\n",
        "    \"do-you-feel-that-being-identified-as-a-person-with-a-mental-health-issue-would-hurt-your-career\": \"mh-hurt-career\",\n",
        "    \"do-you-think-that-team-membersco-workers-would-view-you-more-negatively-if-they-knew-you-suffered-from-a-mental-health-issue\": \"mh-view-negatively\",\n",
        "    \"how-willing-would-you-be-to-share-with-friends-and-family-that-you-have-a-mental-illness\": \"share-mh-family\",\n",
        "    \"have-you-observed-or-experienced-an-unsupportive-or-badly-handled-response-to-a-mental-health-issue-in-your-current-or-previous-workplace\": \"observed-bad-response\",\n",
        "    \"have-your-observations-of-how-another-individual-who-discussed-a-mental-health-disorder-made-you-less-likely-to-reveal-a-mental-health-issue-yourself-in-your-current-workplace\": \"less-likely-reveal\",\n",
        "    \"do-you-have-a-family-history-of-mental-illness\": \"family-history-mh\",\n",
        "    \"have-you-had-a-mental-health-disorder-in-the-past\": \"past-mh-disorder\",\n",
        "    \"do-you-currently-have-a-mental-health-disorder\": \"current-mh-disorder\",\n",
        "    \"if-yes-what-conditions-have-you-been-diagnosed-with\": \"conditions-diagnosed\",\n",
        "    \"if-maybe-what-conditions-do-you-believe-you-have\": \"conditions-believe\",\n",
        "    \"have-you-been-diagnosed-with-a-mental-health-condition-by-a-medical-professional\": \"been-diagnosed\",\n",
        "    \"if-so-what-conditions-were-you-diagnosed-with\": \"been-diagnosed-with\",\n",
        "    \"have-you-ever-sought-treatment-for-a-mental-health-issue-from-a-mental-health-professional\": \"sought-treatment\",\n",
        "    \"interferes-with-your-work-when-being-treated-effectively\": \"interferes-when-treated\",\n",
        "    \"if-you-have-a-mental-health-issue-do-you-feel-that-it-interferes-with-your-work-when-not-being-treated-effectively\": \"interferes-when-not-treated\",\n",
        "    \"what-is-your-age\": \"age\",\n",
        "    \"what-is-your-gender\": \"gender\",\n",
        "    \"what-country-do-you-live-in\": \"live-country\",\n",
        "    \"what-us-state-or-territory-do-you-live-in\": \"live-state\",\n",
        "    \"what-country-do-you-work-in\": \"work-country\",\n",
        "    \"what-us-state-or-territory-do-you-work-in\": \"work-state\",\n",
        "    \"which-of-the-following-best-describes-your-work-position\": \"position\",\n",
        "    \"do-you-work-remotely\": \"remote\",\n",
        "    \"year\": \"year\"\n",
        "}\n",
        "mhs_2016 = pd.read_csv(\"resources/2016.csv\", index_col=False)\n",
        "mhs_2016[\"year\"] = 2016\n",
        "mhs_2016.columns = [clean_text(col) for col in mhs_2016.columns]\n",
        "mhs_2016 = mhs_2016.apply(clean_row, axis=1)\n",
        "mhs_2016 = preprocess_df(mhs_2016)\n",
        "mhs_2016.rename(columns=column_mapping, inplace=True)\n",
        "\n",
        "column_names = mhs_2016.columns.tolist()\n",
        "\n",
        "chunk_size = 20\n",
        "for i in range(0, len(column_names), chunk_size):\n",
        "    print(column_names[i:i+chunk_size])"
      ]
    },
    {
      "cell_type": "code",
      "execution_count": 111,
      "metadata": {},
      "outputs": [
        {
          "name": "stderr",
          "output_type": "stream",
          "text": [
            "/var/folders/lp/71p77wmn3x7dxlg4mnwx61cw0000gq/T/ipykernel_35434/2876397856.py:14: MarkupResemblesLocatorWarning: The input looks more like a filename than markup. You may want to open this file and pass the filehandle into Beautiful Soup.\n",
            "  return BeautifulSoup(text, \"html.parser\").get_text()\n"
          ]
        },
        {
          "ename": "ValueError",
          "evalue": "2",
          "output_type": "error",
          "traceback": [
            "\u001b[0;31m---------------------------------------------------------------------------\u001b[0m",
            "\u001b[0;31mValueError\u001b[0m                                Traceback (most recent call last)",
            "Cell \u001b[0;32mIn[111], line 134\u001b[0m\n\u001b[1;32m    131\u001b[0m mhs_2017 \u001b[38;5;241m=\u001b[39m preprocess_df(mhs_2017)\n\u001b[1;32m    132\u001b[0m mhs_2017\u001b[38;5;241m.\u001b[39mrename(columns\u001b[38;5;241m=\u001b[39mnew_column_mapping, inplace\u001b[38;5;241m=\u001b[39m\u001b[38;5;28;01mTrue\u001b[39;00m)\n\u001b[0;32m--> 134\u001b[0m mhs_2017 \u001b[38;5;241m=\u001b[39m merge_columns(mhs_2017)\n\u001b[1;32m    136\u001b[0m column_names \u001b[38;5;241m=\u001b[39m mhs_2017\u001b[38;5;241m.\u001b[39mcolumns\u001b[38;5;241m.\u001b[39mtolist()\n\u001b[1;32m    138\u001b[0m chunk_size \u001b[38;5;241m=\u001b[39m \u001b[38;5;241m20\u001b[39m\n",
            "Cell \u001b[0;32mIn[109], line 59\u001b[0m, in \u001b[0;36mmerge_columns\u001b[0;34m(df)\u001b[0m\n\u001b[1;32m     56\u001b[0m         merged_columns[col] \u001b[38;5;241m=\u001b[39m df[col]\u001b[38;5;241m.\u001b[39mfillna(\u001b[38;5;124m'\u001b[39m\u001b[38;5;124m'\u001b[39m)\n\u001b[1;32m     58\u001b[0m \u001b[38;5;66;03m# Create a new DataFrame with merged columns\u001b[39;00m\n\u001b[0;32m---> 59\u001b[0m merged_df \u001b[38;5;241m=\u001b[39m pd\u001b[38;5;241m.\u001b[39mDataFrame(merged_columns)\n\u001b[1;32m     61\u001b[0m \u001b[38;5;28;01mreturn\u001b[39;00m merged_df\n",
            "File \u001b[0;32m/opt/anaconda3/lib/python3.11/site-packages/pandas/core/frame.py:733\u001b[0m, in \u001b[0;36mDataFrame.__init__\u001b[0;34m(self, data, index, columns, dtype, copy)\u001b[0m\n\u001b[1;32m    727\u001b[0m     mgr \u001b[38;5;241m=\u001b[39m \u001b[38;5;28mself\u001b[39m\u001b[38;5;241m.\u001b[39m_init_mgr(\n\u001b[1;32m    728\u001b[0m         data, axes\u001b[38;5;241m=\u001b[39m{\u001b[38;5;124m\"\u001b[39m\u001b[38;5;124mindex\u001b[39m\u001b[38;5;124m\"\u001b[39m: index, \u001b[38;5;124m\"\u001b[39m\u001b[38;5;124mcolumns\u001b[39m\u001b[38;5;124m\"\u001b[39m: columns}, dtype\u001b[38;5;241m=\u001b[39mdtype, copy\u001b[38;5;241m=\u001b[39mcopy\n\u001b[1;32m    729\u001b[0m     )\n\u001b[1;32m    731\u001b[0m \u001b[38;5;28;01melif\u001b[39;00m \u001b[38;5;28misinstance\u001b[39m(data, \u001b[38;5;28mdict\u001b[39m):\n\u001b[1;32m    732\u001b[0m     \u001b[38;5;66;03m# GH#38939 de facto copy defaults to False only in non-dict cases\u001b[39;00m\n\u001b[0;32m--> 733\u001b[0m     mgr \u001b[38;5;241m=\u001b[39m dict_to_mgr(data, index, columns, dtype\u001b[38;5;241m=\u001b[39mdtype, copy\u001b[38;5;241m=\u001b[39mcopy, typ\u001b[38;5;241m=\u001b[39mmanager)\n\u001b[1;32m    734\u001b[0m \u001b[38;5;28;01melif\u001b[39;00m \u001b[38;5;28misinstance\u001b[39m(data, ma\u001b[38;5;241m.\u001b[39mMaskedArray):\n\u001b[1;32m    735\u001b[0m     \u001b[38;5;28;01mfrom\u001b[39;00m \u001b[38;5;21;01mnumpy\u001b[39;00m\u001b[38;5;21;01m.\u001b[39;00m\u001b[38;5;21;01mma\u001b[39;00m \u001b[38;5;28;01mimport\u001b[39;00m mrecords\n",
            "File \u001b[0;32m/opt/anaconda3/lib/python3.11/site-packages/pandas/core/internals/construction.py:503\u001b[0m, in \u001b[0;36mdict_to_mgr\u001b[0;34m(data, index, columns, dtype, typ, copy)\u001b[0m\n\u001b[1;32m    499\u001b[0m     \u001b[38;5;28;01melse\u001b[39;00m:\n\u001b[1;32m    500\u001b[0m         \u001b[38;5;66;03m# dtype check to exclude e.g. range objects, scalars\u001b[39;00m\n\u001b[1;32m    501\u001b[0m         arrays \u001b[38;5;241m=\u001b[39m [x\u001b[38;5;241m.\u001b[39mcopy() \u001b[38;5;28;01mif\u001b[39;00m \u001b[38;5;28mhasattr\u001b[39m(x, \u001b[38;5;124m\"\u001b[39m\u001b[38;5;124mdtype\u001b[39m\u001b[38;5;124m\"\u001b[39m) \u001b[38;5;28;01melse\u001b[39;00m x \u001b[38;5;28;01mfor\u001b[39;00m x \u001b[38;5;129;01min\u001b[39;00m arrays]\n\u001b[0;32m--> 503\u001b[0m \u001b[38;5;28;01mreturn\u001b[39;00m arrays_to_mgr(arrays, columns, index, dtype\u001b[38;5;241m=\u001b[39mdtype, typ\u001b[38;5;241m=\u001b[39mtyp, consolidate\u001b[38;5;241m=\u001b[39mcopy)\n",
            "File \u001b[0;32m/opt/anaconda3/lib/python3.11/site-packages/pandas/core/internals/construction.py:119\u001b[0m, in \u001b[0;36marrays_to_mgr\u001b[0;34m(arrays, columns, index, dtype, verify_integrity, typ, consolidate)\u001b[0m\n\u001b[1;32m    116\u001b[0m         index \u001b[38;5;241m=\u001b[39m ensure_index(index)\n\u001b[1;32m    118\u001b[0m     \u001b[38;5;66;03m# don't force copy because getting jammed in an ndarray anyway\u001b[39;00m\n\u001b[0;32m--> 119\u001b[0m     arrays, refs \u001b[38;5;241m=\u001b[39m _homogenize(arrays, index, dtype)\n\u001b[1;32m    120\u001b[0m     \u001b[38;5;66;03m# _homogenize ensures\u001b[39;00m\n\u001b[1;32m    121\u001b[0m     \u001b[38;5;66;03m#  - all(len(x) == len(index) for x in arrays)\u001b[39;00m\n\u001b[1;32m    122\u001b[0m     \u001b[38;5;66;03m#  - all(x.ndim == 1 for x in arrays)\u001b[39;00m\n\u001b[0;32m   (...)\u001b[0m\n\u001b[1;32m    125\u001b[0m \n\u001b[1;32m    126\u001b[0m \u001b[38;5;28;01melse\u001b[39;00m:\n\u001b[1;32m    127\u001b[0m     index \u001b[38;5;241m=\u001b[39m ensure_index(index)\n",
            "File \u001b[0;32m/opt/anaconda3/lib/python3.11/site-packages/pandas/core/internals/construction.py:629\u001b[0m, in \u001b[0;36m_homogenize\u001b[0;34m(data, index, dtype)\u001b[0m\n\u001b[1;32m    626\u001b[0m         val \u001b[38;5;241m=\u001b[39m \u001b[38;5;28mdict\u001b[39m(val)\n\u001b[1;32m    627\u001b[0m     val \u001b[38;5;241m=\u001b[39m lib\u001b[38;5;241m.\u001b[39mfast_multiget(val, oindex\u001b[38;5;241m.\u001b[39m_values, default\u001b[38;5;241m=\u001b[39mnp\u001b[38;5;241m.\u001b[39mnan)\n\u001b[0;32m--> 629\u001b[0m val \u001b[38;5;241m=\u001b[39m sanitize_array(val, index, dtype\u001b[38;5;241m=\u001b[39mdtype, copy\u001b[38;5;241m=\u001b[39m\u001b[38;5;28;01mFalse\u001b[39;00m)\n\u001b[1;32m    630\u001b[0m com\u001b[38;5;241m.\u001b[39mrequire_length_match(val, index)\n\u001b[1;32m    631\u001b[0m refs\u001b[38;5;241m.\u001b[39mappend(\u001b[38;5;28;01mNone\u001b[39;00m)\n",
            "File \u001b[0;32m/opt/anaconda3/lib/python3.11/site-packages/pandas/core/construction.py:632\u001b[0m, in \u001b[0;36msanitize_array\u001b[0;34m(data, index, dtype, copy, allow_2d)\u001b[0m\n\u001b[1;32m    629\u001b[0m \u001b[38;5;28;01melif\u001b[39;00m \u001b[38;5;28mhasattr\u001b[39m(data, \u001b[38;5;124m\"\u001b[39m\u001b[38;5;124m__array__\u001b[39m\u001b[38;5;124m\"\u001b[39m):\n\u001b[1;32m    630\u001b[0m     \u001b[38;5;66;03m# e.g. dask array GH#38645\u001b[39;00m\n\u001b[1;32m    631\u001b[0m     data \u001b[38;5;241m=\u001b[39m np\u001b[38;5;241m.\u001b[39marray(data, copy\u001b[38;5;241m=\u001b[39mcopy)\n\u001b[0;32m--> 632\u001b[0m     \u001b[38;5;28;01mreturn\u001b[39;00m sanitize_array(\n\u001b[1;32m    633\u001b[0m         data,\n\u001b[1;32m    634\u001b[0m         index\u001b[38;5;241m=\u001b[39mindex,\n\u001b[1;32m    635\u001b[0m         dtype\u001b[38;5;241m=\u001b[39mdtype,\n\u001b[1;32m    636\u001b[0m         copy\u001b[38;5;241m=\u001b[39m\u001b[38;5;28;01mFalse\u001b[39;00m,\n\u001b[1;32m    637\u001b[0m         allow_2d\u001b[38;5;241m=\u001b[39mallow_2d,\n\u001b[1;32m    638\u001b[0m     )\n\u001b[1;32m    640\u001b[0m \u001b[38;5;28;01melse\u001b[39;00m:\n\u001b[1;32m    641\u001b[0m     _sanitize_non_ordered(data)\n",
            "File \u001b[0;32m/opt/anaconda3/lib/python3.11/site-packages/pandas/core/construction.py:608\u001b[0m, in \u001b[0;36msanitize_array\u001b[0;34m(data, index, dtype, copy, allow_2d)\u001b[0m\n\u001b[1;32m    606\u001b[0m subarr \u001b[38;5;241m=\u001b[39m data\n\u001b[1;32m    607\u001b[0m \u001b[38;5;28;01mif\u001b[39;00m data\u001b[38;5;241m.\u001b[39mdtype \u001b[38;5;241m==\u001b[39m \u001b[38;5;28mobject\u001b[39m:\n\u001b[0;32m--> 608\u001b[0m     subarr \u001b[38;5;241m=\u001b[39m maybe_infer_to_datetimelike(data)\n\u001b[1;32m    609\u001b[0m     \u001b[38;5;28;01mif\u001b[39;00m (\n\u001b[1;32m    610\u001b[0m         object_index\n\u001b[1;32m    611\u001b[0m         \u001b[38;5;129;01mand\u001b[39;00m using_pyarrow_string_dtype()\n\u001b[1;32m    612\u001b[0m         \u001b[38;5;129;01mand\u001b[39;00m is_string_dtype(subarr)\n\u001b[1;32m    613\u001b[0m     ):\n\u001b[1;32m    614\u001b[0m         \u001b[38;5;66;03m# Avoid inference when string option is set\u001b[39;00m\n\u001b[1;32m    615\u001b[0m         subarr \u001b[38;5;241m=\u001b[39m data\n",
            "File \u001b[0;32m/opt/anaconda3/lib/python3.11/site-packages/pandas/core/dtypes/cast.py:1172\u001b[0m, in \u001b[0;36mmaybe_infer_to_datetimelike\u001b[0;34m(value)\u001b[0m\n\u001b[1;32m   1169\u001b[0m     \u001b[38;5;28;01mraise\u001b[39;00m \u001b[38;5;167;01mTypeError\u001b[39;00m(\u001b[38;5;28mtype\u001b[39m(value))  \u001b[38;5;66;03m# pragma: no cover\u001b[39;00m\n\u001b[1;32m   1170\u001b[0m \u001b[38;5;28;01mif\u001b[39;00m value\u001b[38;5;241m.\u001b[39mndim \u001b[38;5;241m!=\u001b[39m \u001b[38;5;241m1\u001b[39m:\n\u001b[1;32m   1171\u001b[0m     \u001b[38;5;66;03m# Caller is responsible\u001b[39;00m\n\u001b[0;32m-> 1172\u001b[0m     \u001b[38;5;28;01mraise\u001b[39;00m \u001b[38;5;167;01mValueError\u001b[39;00m(value\u001b[38;5;241m.\u001b[39mndim)  \u001b[38;5;66;03m# pragma: no cover\u001b[39;00m\n\u001b[1;32m   1174\u001b[0m \u001b[38;5;28;01mif\u001b[39;00m \u001b[38;5;129;01mnot\u001b[39;00m \u001b[38;5;28mlen\u001b[39m(value):\n\u001b[1;32m   1175\u001b[0m     \u001b[38;5;28;01mreturn\u001b[39;00m value\n",
            "\u001b[0;31mValueError\u001b[0m: 2"
          ]
        }
      ],
      "source": [
        "new_column_mapping = {\n",
        "    'are-you-self-employed-': 'self-employed',\n",
        "    'how-many-employees-does-your-company-or-organization-have': 'numb-employees',\n",
        "    'is-your-employer-primarily-a-tech-companyorganization': 'company-tech',\n",
        "    'is-your-primary-role-within-your-company-related-to-techit': 'role-tech',\n",
        "    'does-your-employer-provide-mental-health-benefits-as-part-of-healthcare-coverage': 'mh-benefits',\n",
        "    'do-you-know-the-options-for-mental-health-care-available-under-your-employer-provided-health-coverage': 'know-mh-options',\n",
        "    'has-your-employer-ever-formally-discussed-mental-health-for-example-as-part-of-a-wellness-campaign-or-other-official-communication': 'discussed-mh',\n",
        "    'does-your-employer-offer-resources-to-learn-more-about-mental-health-disorders-and-options-for-seeking-help': 'mh-resources',\n",
        "    'is-your-anonymity-protected-if-you-choose-to-take-advantage-of-mental-health-or-substance-abuse-treatment-resources-provided-by-your-employer': 'anonymity-protected',\n",
        "    'if-a-mental-health-issue-prompted-you-to-request-a-medical-leave-from-work-how-easy-or-difficult-would-it-be-to-ask-for-that-leave': 'mh-leave',\n",
        "    'would-you-feel-more-comfortable-talking-to-your-coworkers-about-your-physical-health-or-your-mental-health': 'comfortable-coworkers',\n",
        "    'would-you-feel-comfortable-discussing-a-mental-health-issue-with-your-direct-supervisors': 'comfortable-supervisors',\n",
        "    'have-you-ever-discussed-your-mental-health-with-your-employer': 'discussed-mh-employer',\n",
        "    'describe-the-conversation-you-had-with-your-employer-about-your-mental-health-including-their-reactions-and-what-actions-were-taken-to-address-your-mental-health-issuequestions': 'describe-conv-employer',\n",
        "    'would-you-feel-comfortable-discussing-a-mental-health-issue-with-your-coworkers': 'comfortable-coworkers',\n",
        "    'have-you-ever-discussed-your-mental-health-with-coworkers': 'discussed-mh-coworkers',\n",
        "    'describe-the-conversation-with-coworkers-you-had-about-your-mental-health-including-their-reactions': 'describe-conv-coworkers',\n",
        "    'have-you-ever-had-a-coworker-discuss-their-or-another-coworkers-mental-health-with-you': 'coworker-discuss-mh',\n",
        "    'describe-the-conversation-your-coworker-had-with-you-about-their-mental-health-please-do-not-use-names': 'describe-conv-coworker',\n",
        "    'overall-how-much-importance-does-your-employer-place-on-physical-health': 'employer-physical-health',\n",
        "    'overall-how-much-importance-does-your-employer-place-on-mental-health': 'employer-mental-health',\n",
        "    'do-you-have-medical-coverage-private-insurance-or-state-provided-that-includes-treatment-of-mental-health-disorders': 'mh-coverage',\n",
        "    'do-you-know-local-or-online-resources-to-seek-help-for-a-mental-health-issue': 'know-local-resources',\n",
        "    'if-you-have-been-diagnosed-or-treated-for-a-mental-health-disorder-do-you-ever-reveal-this-to-clients-or-business-contacts-': 'reveal-clients',\n",
        "    'if-you-have-revealed-a-mental-health-disorder-to-a-client-or-business-contact-how-has-this-affected-you-or-the-relationship': 'mh-impact-clients',\n",
        "    'if-you-have-been-diagnosed-or-treated-for-a-mental-health-disorder-do-you-ever-reveal-this-to-coworkers-or-employees-': 'reveal-coworkers',\n",
        "    'if-you-have-revealed-a-mental-health-disorder-to-a-coworker-or-employee-how-has-this-impacted-you-or-the-relationship': 'mh-impact-coworkers',\n",
        "    'do-you-believe-your-productivity-is-ever-affected-by-a-mental-health-issue': 'affect-job',\n",
        "    'if-yes-what-percentage-of-your-work-time-time-performing-primary-or-secondary-job-functions-is-affected-by-a-mental-health-issue': 'percent-affect',\n",
        "    'do-you-have-previous-employers-': 'previous-companies',\n",
        "    'was-your-employer-primarily-a-tech-companyorganization': 'previous-company-tech',\n",
        "    'have-your-previous-employers-provided-mental-health-benefits-': 'prev-mh-benefits',\n",
        "    'were-you-aware-of-the-options-for-mental-health-care-provided-by-your-previous-employers-': 'aware-prev-benefits',\n",
        "    'did-your-previous-employers-ever-formally-discuss-mental-health-as-part-of-a-wellness-campaign-or-other-official-communication': 'previous-discussed-mh',\n",
        "    'did-your-previous-employers-provide-resources-to-learn-more-about-mental-health-disorders-and-how-to-seek-help': 'previous-mh-resources',\n",
        "    'was-your-anonymity-protected-if-you-chose-to-take-advantage-of-mental-health-or-substance-abuse-treatment-resources-with-previous-employers': 'previous-anonymity-protected',\n",
        "    'would-you-have-felt-more-comfortable-talking-to-your-previous-employer-about-your-physical-health-or-your-mental-health': 'previous-comfortable-coworkers',\n",
        "    'would-you-have-been-willing-to-discuss-your-mental-health-with-your-direct-supervisors': 'previous-comfortable-supervisors',\n",
        "    'did-you-ever-discuss-your-mental-health-with-your-previous-employer': 'discussed-mh-employer',\n",
        "    'describe-the-conversation-you-had-with-your-previous-employer-about-your-mental-health-including-their-reactions-and-actions-taken-to-address-your-mental-health-issuequestions': 'describe-conv-employer',\n",
        "    'would-you-have-been-willing-to-discuss-your-mental-health-with-your-coworkers-at-previous-employers-': 'previous-comfortable-coworkers',\n",
        "    'did-you-ever-discuss-your-mental-health-with-a-previous-coworkers': 'discussed-mh-coworkers',\n",
        "    'describe-the-conversation-you-had-with-your-previous-coworkers-about-your-mental-health-including-their-reactions': 'describe-conv-coworkers',\n",
        "    'did-you-ever-have-a-previous-coworker-discuss-their-or-another-coworkers-mental-health-with-you': 'coworker-discuss-mh',\n",
        "    'describe-the-conversation-your-coworker-had-with-you-about-their-mental-health-please-do-not-use-names1': 'describe-conv-coworker',\n",
        "    'overall-how-much-importance-did-your-previous-employer-place-on-physical-health': 'previous-employer-physical-health',\n",
        "    'overall-how-much-importance-did-your-previous-employer-place-on-mental-health': 'previous-employer-mental-health',\n",
        "    'do-you-currently-have-a-mental-health-disorder': 'current-mh-disorder',\n",
        "    'have-you-ever-been-diagnosed-with-a-mental-health-disorder': 'been-diagnosed',\n",
        "    'anxiety-disorder-generalized-social-phobia-etc': 'anxiety-disorder',\n",
        "    'mood-disorder-depression-bipolar-disorder-etc': 'mood-disorder',\n",
        "    'psychotic-disorder-schizophrenia-schizoaffective-etc': 'psychotic-disorder',\n",
        "    'eating-disorder-anorexia-bulimia-etc': 'eating-disorder',\n",
        "    'attention-deficit-hyperactivity-disorder': 'adhd',\n",
        "    'personality-disorder-borderline-antisocial-paranoid-etc': 'personality-disorder',\n",
        "    'obsessive-compulsive-disorder': 'ocd',\n",
        "    'post-traumatic-stress-disorder': 'ptsd',\n",
        "    'stress-response-syndromes': 'stress-syndromes',\n",
        "    'dissociative-disorder': 'dissociative-disorder',\n",
        "    'substance-use-disorder': 'substance-disorder',\n",
        "    'addictive-disorder': 'addictive-disorder',\n",
        "    'other': 'other',\n",
        "    'anxiety-disorder-generalized-social-phobia-etc1': 'anxiety-disorder',\n",
        "    'mood-disorder-depression-bipolar-disorder-etc1': 'mood-disorder',\n",
        "    'psychotic-disorder-schizophrenia-schizoaffective-etc1': 'psychotic-disorder',\n",
        "    'eating-disorder-anorexia-bulimia-etc1': 'eating-disorder',\n",
        "    'attention-deficit-hyperactivity-disorder1': 'adhd',\n",
        "    'personality-disorder-borderline-antisocial-paranoid-etc1': 'personality-disorder',\n",
        "    'obsessive-compulsive-disorder1': 'ocd',\n",
        "    'post-traumatic-stress-disorder1': 'ptsd',\n",
        "    'stress-response-syndromes1': 'stress-syndromes',\n",
        "    'dissociative-disorder1': 'dissociative-disorder',\n",
        "    'substance-use-disorder1': 'substance-disorder',\n",
        "    'addictive-disorder1': 'addictive-disorder',\n",
        "    'other1': 'other',\n",
        "    'anxiety-disorder-generalized-social-phobia-etc2': 'anxiety-disorder',\n",
        "    'mood-disorder-depression-bipolar-disorder-etc2': 'mood-disorder',\n",
        "    'psychotic-disorder-schizophrenia-schizoaffective-etc2': 'psychotic-disorder',\n",
        "    'eating-disorder-anorexia-bulimia-etc2': 'eating-disorder',\n",
        "    'attention-deficit-hyperactivity-disorder2': 'adhd',\n",
        "    'personality-disorder-borderline-antisocial-paranoid-etc2': 'personality-disorder',\n",
        "    'obsessive-compulsive-disorder2': 'ocd',\n",
        "    'post-traumatic-stress-disorder2': 'ptsd',\n",
        "    'stress-response-syndromes2': 'stress-syndromes',\n",
        "    'dissociative-disorder2': 'dissociative-disorder',\n",
        "    'substance-use-disorder2': 'substance-disorder',\n",
        "    'addictive-disorder2': 'addictive-disorder',\n",
        "    'other2': 'other',\n",
        "    'have-you-had-a-mental-health-disorder-in-the-past': 'past-mh-disorder',\n",
        "    'have-you-ever-sought-treatment-for-a-mental-health-disorder-from-a-mental-health-professional': 'sought-treatment',\n",
        "    'do-you-have-a-family-history-of-mental-illness': 'family-history-mh',\n",
        "    'if-you-have-a-mental-health-disorder-how-often-do-you-feel-that-it-interferes-with-your-work-when-being-treated-effectively-': 'interferes-when-treated',\n",
        "    'if-you-have-a-mental-health-disorder-how-often-do-you-feel-that-it-interferes-with-your-work-when-not-being-treated-effectively-ie-when-you-are-experiencing-symptoms-': 'interferes-when-not-treated',\n",
        "    'have-your-observations-of-how-another-individual-who-discussed-a-mental-health-issue-made-you-less-likely-to-reveal-a-mental-health-issue-yourself-in-your-current-workplace': 'less-likely-reveal',\n",
        "    'how-willing-would-you-be-to-share-with-friends-and-family-that-you-have-a-mental-illness': 'share-mh-family',\n",
        "    'would-you-be-willing-to-bring-up-a-physical-health-issue-with-a-potential-employer-in-an-interview': 'tell-physical-issue',\n",
        "    'why-or-why-not': 'why-or-why-not-physical-issue',\n",
        "    'would-you-bring-up-your-mental-health-with-a-potential-employer-in-an-interview': 'tell-mental-issue',\n",
        "    'why-or-why-not1': 'why-or-why-not-mental-issue',\n",
        "    'are-you-openly-identified-at-work-as-a-person-with-a-mental-health-issue': 'openly-identified',\n",
        "    'has-being-identified-as-a-person-with-a-mental-health-issue-affected-your-career': 'mh-hurt-career',\n",
        "    'how-has-it-affected-your-career': 'how-hurt-career',\n",
        "    'if-they-knew-you-suffered-from-a-mental-health-disorder-how-do-you-think-that-team-membersco-workers-would-react': 'mh-view-negatively',\n",
        "    'have-you-observed-or-experienced-an-unsupportive-or-badly-handled-response-to-a-mental-health-issue-in-your-current-or-previous-workplace-': 'observed-bad-response',\n",
        "    'describe-the-circumstances-of-the-badly-handled-or-unsupportive-response': 'describe-bad-response',\n",
        "    'have-you-observed-or-experienced-supportive-or-well-handled-response-to-a-mental-health-issue-in-your-current-or-previous-workplace-': 'observed-good-response',\n",
        "    'describe-the-circumstances-of-the-supportive-or-well-handled-response': 'describe-good-response',\n",
        "    'overall-how-well-do-you-think-the-tech-industry-supports-employees-with-mental-health-issues': 'tech-support-mh',\n",
        "    'briefly-describe-what-you-think-the-industry-as-a-whole-andor-employers-could-do-to-improve-mental-health-support-for-employees': 'improve-mh-support',\n",
        "    'if-there-is-anything-else-you-would-like-to-tell-us-that-has-not-been-covered-by-the-survey-questions-please-use-this-space-to-do-so': 'other-comments',\n",
        "    'would-you-be-willing-to-talk-to-one-of-us-more-extensively-about-your-experiences-with-mental-health-issues-in-the-tech-industry-note-that-all-interview-responses-would-be-used-anonymously-and-only-with-your-permission': 'interview-willingness',\n",
        "    'what-is-your-age': 'age',\n",
        "    'what-is-your-gender': 'gender',\n",
        "    'what-country-do-you-live-in': 'live-country',\n",
        "    'what-us-state-or-territory-do-you-live-in': 'live-state',\n",
        "    'what-is-your-race': 'race',\n",
        "    'other3': 'other',\n",
        "    'what-country-do-you-work-in': 'work-country',\n",
        "    'what-us-state-or-territory-do-you-work-in': 'work-state',\n",
        "    'start-date-utc': 'start-date-utc',\n",
        "    'submit-date-utc': 'submit-date-utc',\n",
        "    'network-id': 'network-id',\n",
        "    'year': 'year'\n",
        "}\n",
        "\n",
        "mhs_2017 = pd.read_csv(\"resources/2017.csv\", index_col=False)\n",
        "mhs_2017[\"year\"] = 2017\n",
        "mhs_2017.columns = [clean_text(col) for col in mhs_2017.columns]\n",
        "mhs_2017 = mhs_2017.apply(clean_row, axis=1)\n",
        "mhs_2017 = preprocess_df(mhs_2017)\n",
        "mhs_2017.rename(columns=new_column_mapping, inplace=True)\n",
        "\n",
        "mhs_2017 = merge_columns(mhs_2017)\n",
        "\n",
        "column_names = mhs_2017.columns.tolist()\n",
        "\n",
        "chunk_size = 20\n",
        "for i in range(0, len(column_names), chunk_size):\n",
        "    print(column_names[i:i+chunk_size])"
      ]
    },
    {
      "cell_type": "code",
      "execution_count": 95,
      "metadata": {
        "colab": {
          "base_uri": "https://localhost:8080/",
          "height": 724
        },
        "id": "G0eeFcNSLiW5",
        "outputId": "97852ee4-3cda-4bec-97a2-980ed4517829"
      },
      "outputs": [
        {
          "name": "stderr",
          "output_type": "stream",
          "text": [
            "/var/folders/lp/71p77wmn3x7dxlg4mnwx61cw0000gq/T/ipykernel_35434/3757670727.py:14: MarkupResemblesLocatorWarning: The input looks more like a filename than markup. You may want to open this file and pass the filehandle into Beautiful Soup.\n",
            "  return BeautifulSoup(text, \"html.parser\").get_text()\n"
          ]
        },
        {
          "name": "stdout",
          "output_type": "stream",
          "text": [
            "['uniquecolumnheading', 'self-employed', 'numb-employees', 'company-tech', 'role-tech', 'mh-benefits', 'know-mh-options', 'discussed-mh', 'mh-resources', 'anonymity-protected', 'mh-leave', 'comfortable-coworkers', 'comfortable-supervisors', 'discussed-mh-employer', 'describe-conv-employer', 'comfortable-coworkers', 'discussed-mh-coworkers', 'describe-conv-coworkers', 'coworker-discuss-mh', 'describe-conv-coworker']\n",
            "['employer-physical-health', 'employer-mental-health', 'mh-coverage', 'know-local-resources', 'reveal-clients', 'mh-impact-clients', 'reveal-coworkers', 'mh-impact-coworkers', 'affect-job', 'percent-affect', 'previous-companies', 'previous-company-tech', 'prev-mh-benefits', 'aware-prev-benefits', 'previous-discussed-mh', 'previous-mh-resources', 'previous-anonymity-protected', 'previous-comfortable-coworkers', 'previous-comfortable-supervisors', 'discussed-mh-employer']\n",
            "['describe-conv-employer', 'previous-comfortable-coworkers', 'discussed-mh-coworkers', 'describe-conv-coworkers', 'coworker-discuss-mh', 'describe-conv-coworker', 'previous-employer-physical-health', 'previous-employer-mental-health', 'current-mh-disorder', 'been-diagnosed', 'anxiety-disorder', 'mood-disorder', 'psychotic-disorder', 'eating-disorder', 'adhd', 'personality-disorder', 'ocd', 'ptsd', 'stress-syndromes', 'dissociative-disorder']\n",
            "['substance-disorder', 'addictive-disorder', 'other', 'anxiety-disorder', 'mood-disorder', 'psychotic-disorder', 'eating-disorder', 'adhd', 'personality-disorder', 'ocd', 'ptsd', 'stress-syndromes', 'dissociative-disorder', 'substance-disorder', 'addictive-disorder', 'other', 'anxiety-disorder', 'mood-disorder', 'psychotic-disorder', 'eating-disorder']\n",
            "['adhd', 'personality-disorder', 'ocd', 'ptsd', 'stress-syndromes', 'dissociative-disorder', 'substance-disorder', 'addictive-disorder', 'other', 'past-mh-disorder', 'sought-treatment', 'family-history-mh', 'interferes-when-treated', 'interferes-when-not-treated', 'less-likely-reveal', 'share-mh-family', 'tell-physical-issue', 'why-or-why-not-physical-issue', 'tell-mental-issue', 'why-or-why-not-mental-issue']\n",
            "['openly-identified', 'mh-hurt-career', 'how-hurt-career', 'mh-view-negatively', 'observed-bad-response', 'describe-bad-response', 'observed-good-response', 'describe-good-response', 'tech-support-mh', 'improve-mh-support', 'other-comments', 'interview-willingness', 'age', 'gender', 'live-country', 'live-state', 'race', 'other', 'work-country', 'work-state']\n",
            "['start-date-utc', 'submit-date-utc', 'network-id', 'year']\n"
          ]
        }
      ],
      "source": [
        "mhs_2018 = pd.read_csv(\"resources/2018.csv\", index_col=False)\n",
        "mhs_2018[\"year\"] = 2018\n",
        "mhs_2018.columns = [clean_text(col) for col in mhs_2018.columns]\n",
        "mhs_2018 = mhs_2018.apply(clean_row, axis=1)\n",
        "mhs_2018 = preprocess_df(mhs_2018)\n",
        "mhs_2018.rename(columns=new_column_mapping, inplace=True)\n",
        "\n",
        "column_names = mhs_2018.columns.tolist()\n",
        "\n",
        "chunk_size = 20\n",
        "for i in range(0, len(column_names), chunk_size):\n",
        "    print(column_names[i:i+chunk_size])"
      ]
    },
    {
      "cell_type": "code",
      "execution_count": 96,
      "metadata": {
        "colab": {
          "base_uri": "https://localhost:8080/",
          "height": 690
        },
        "id": "aLOv2WjFLijj",
        "outputId": "60151813-0aa6-4c8f-8043-89e5d94fa736"
      },
      "outputs": [
        {
          "name": "stderr",
          "output_type": "stream",
          "text": [
            "/var/folders/lp/71p77wmn3x7dxlg4mnwx61cw0000gq/T/ipykernel_35434/3757670727.py:14: MarkupResemblesLocatorWarning: The input looks more like a filename than markup. You may want to open this file and pass the filehandle into Beautiful Soup.\n",
            "  return BeautifulSoup(text, \"html.parser\").get_text()\n"
          ]
        },
        {
          "name": "stdout",
          "output_type": "stream",
          "text": [
            "['uniquecolumnheading', 'self-employed', 'numb-employees', 'company-tech', 'role-tech', 'mh-benefits', 'know-mh-options', 'discussed-mh', 'mh-resources', 'anonymity-protected', 'mh-leave', 'comfortable-coworkers', 'comfortable-supervisors', 'discussed-mh-employer', 'describe-conv-employer', 'comfortable-coworkers', 'discussed-mh-coworkers', 'describe-conv-coworkers', 'coworker-discuss-mh', 'describe-conv-coworker']\n",
            "['employer-physical-health', 'employer-mental-health', 'mh-coverage', 'know-local-resources', 'reveal-clients', 'mh-impact-clients', 'reveal-coworkers', 'mh-impact-coworkers', 'affect-job', 'percent-affect', 'previous-companies', 'previous-company-tech', 'prev-mh-benefits', 'aware-prev-benefits', 'previous-discussed-mh', 'previous-mh-resources', 'previous-anonymity-protected', 'previous-comfortable-coworkers', 'previous-comfortable-supervisors', 'discussed-mh-employer']\n",
            "['describe-conv-employer', 'previous-comfortable-coworkers', 'discussed-mh-coworkers', 'describe-conv-coworkers', 'coworker-discuss-mh', 'describe-conv-coworker', 'previous-employer-physical-health', 'previous-employer-mental-health', 'current-mh-disorder', 'been-diagnosed', 'anxiety-disorder', 'mood-disorder', 'psychotic-disorder', 'eating-disorder', 'adhd', 'personality-disorder', 'ocd', 'ptsd', 'stress-syndromes', 'dissociative-disorder']\n",
            "['substance-disorder', 'addictive-disorder', 'other', 'anxiety-disorder', 'mood-disorder', 'psychotic-disorder', 'eating-disorder', 'adhd', 'personality-disorder', 'ocd', 'ptsd', 'stress-syndromes', 'dissociative-disorder', 'substance-disorder', 'addictive-disorder', 'other', 'anxiety-disorder', 'mood-disorder', 'psychotic-disorder', 'eating-disorder']\n",
            "['adhd', 'personality-disorder', 'ocd', 'ptsd', 'stress-syndromes', 'dissociative-disorder', 'substance-disorder', 'addictive-disorder', 'other', 'past-mh-disorder', 'sought-treatment', 'family-history-mh', 'interferes-when-treated', 'interferes-when-not-treated', 'less-likely-reveal', 'share-mh-family', 'tell-physical-issue', 'why-or-why-not-physical-issue', 'tell-mental-issue', 'why-or-why-not-mental-issue']\n",
            "['openly-identified', 'mh-hurt-career', 'how-hurt-career', 'mh-view-negatively', 'observed-bad-response', 'describe-bad-response', 'observed-good-response', 'describe-good-response', 'tech-support-mh', 'improve-mh-support', 'other-comments', 'interview-willingness', 'age', 'gender', 'live-country', 'live-state', 'race', 'other', 'work-country', 'work-state']\n",
            "['start-date-utc', 'submit-date-utc', 'network-id', 'year']\n"
          ]
        }
      ],
      "source": [
        "mhs_2019 = pd.read_csv(\"resources/2019.csv\", index_col=False)\n",
        "mhs_2019[\"year\"] = 2019\n",
        "mhs_2019.columns = [clean_text(col) for col in mhs_2019.columns]\n",
        "mhs_2019 = mhs_2019.apply(clean_row, axis=1)\n",
        "mhs_2019 = preprocess_df(mhs_2019)\n",
        "mhs_2019.rename(columns=new_column_mapping, inplace=True)\n",
        "\n",
        "column_names = mhs_2018.columns.tolist()\n",
        "\n",
        "chunk_size = 20\n",
        "for i in range(0, len(column_names), chunk_size):\n",
        "    print(column_names[i:i+chunk_size])"
      ]
    },
    {
      "cell_type": "code",
      "execution_count": 76,
      "metadata": {
        "colab": {
          "base_uri": "https://localhost:8080/",
          "height": 187
        },
        "id": "cs_xJ_8oLiso",
        "outputId": "7ee331fe-b2d3-4721-ccf4-7ee08d4d038f"
      },
      "outputs": [],
      "source": [
        "\n",
        "\n",
        "mhs_2020 = pd.read_csv(\"resources/2020.csv\", index_col=False)\n",
        "mhs_2020[\"year\"] = 2020\n",
        "\n",
        "mhs_2021 = pd.read_csv(\"resources/2021.csv\", index_col=False)\n",
        "mhs_2021[\"year\"] = 2021\n",
        "\n",
        "mhs_2022 = pd.read_csv(\"resources/2022.csv\", index_col=False)\n",
        "mhs_2022[\"year\"] = 2022\n",
        "\n",
        "mhs_2023 = pd.read_csv(\"resources/2023.csv\", index_col=False)\n",
        "mhs_2023[\"year\"] = 2023\n",
        "\n",
        "\n",
        "\n",
        "\n"
      ]
    },
    {
      "cell_type": "code",
      "execution_count": 77,
      "metadata": {
        "colab": {
          "base_uri": "https://localhost:8080/",
          "height": 1000
        },
        "id": "CJrnvLEsLi3t",
        "outputId": "2f6a51f7-90c9-4edf-8afc-25b93caff22b"
      },
      "outputs": [
        {
          "name": "stderr",
          "output_type": "stream",
          "text": [
            "/var/folders/lp/71p77wmn3x7dxlg4mnwx61cw0000gq/T/ipykernel_35434/855217152.py:2: MarkupResemblesLocatorWarning: The input looks more like a filename than markup. You may want to open this file and pass the filehandle into Beautiful Soup.\n",
            "  return BeautifulSoup(text, \"html.parser\").get_text()\n",
            "/var/folders/lp/71p77wmn3x7dxlg4mnwx61cw0000gq/T/ipykernel_35434/855217152.py:2: MarkupResemblesLocatorWarning: The input looks more like a filename than markup. You may want to open this file and pass the filehandle into Beautiful Soup.\n",
            "  return BeautifulSoup(text, \"html.parser\").get_text()\n",
            "/var/folders/lp/71p77wmn3x7dxlg4mnwx61cw0000gq/T/ipykernel_35434/855217152.py:2: MarkupResemblesLocatorWarning: The input looks more like a filename than markup. You may want to open this file and pass the filehandle into Beautiful Soup.\n",
            "  return BeautifulSoup(text, \"html.parser\").get_text()\n",
            "/var/folders/lp/71p77wmn3x7dxlg4mnwx61cw0000gq/T/ipykernel_35434/855217152.py:2: MarkupResemblesLocatorWarning: The input looks more like a filename than markup. You may want to open this file and pass the filehandle into Beautiful Soup.\n",
            "  return BeautifulSoup(text, \"html.parser\").get_text()\n",
            "/var/folders/lp/71p77wmn3x7dxlg4mnwx61cw0000gq/T/ipykernel_35434/855217152.py:2: MarkupResemblesLocatorWarning: The input looks more like a filename than markup. You may want to open this file and pass the filehandle into Beautiful Soup.\n",
            "  return BeautifulSoup(text, \"html.parser\").get_text()\n",
            "/var/folders/lp/71p77wmn3x7dxlg4mnwx61cw0000gq/T/ipykernel_35434/855217152.py:2: MarkupResemblesLocatorWarning: The input looks more like a filename than markup. You may want to open this file and pass the filehandle into Beautiful Soup.\n",
            "  return BeautifulSoup(text, \"html.parser\").get_text()\n",
            "/var/folders/lp/71p77wmn3x7dxlg4mnwx61cw0000gq/T/ipykernel_35434/855217152.py:2: MarkupResemblesLocatorWarning: The input looks more like a filename than markup. You may want to open this file and pass the filehandle into Beautiful Soup.\n",
            "  return BeautifulSoup(text, \"html.parser\").get_text()\n",
            "/var/folders/lp/71p77wmn3x7dxlg4mnwx61cw0000gq/T/ipykernel_35434/855217152.py:2: MarkupResemblesLocatorWarning: The input looks more like a filename than markup. You may want to open this file and pass the filehandle into Beautiful Soup.\n",
            "  return BeautifulSoup(text, \"html.parser\").get_text()\n"
          ]
        }
      ],
      "source": [
        "\n",
        "\n",
        "\n",
        "\n",
        "\n"
      ]
    },
    {
      "cell_type": "code",
      "execution_count": 79,
      "metadata": {
        "colab": {
          "base_uri": "https://localhost:8080/",
          "height": 1000
        },
        "id": "-WdiK82UMZZV",
        "outputId": "a69ccc1f-cf84-419f-b1bb-ac323bc8c259"
      },
      "outputs": [
        {
          "ename": "KeyError",
          "evalue": "\"None of ['uniquecolumnheading'] are in the columns\"",
          "output_type": "error",
          "traceback": [
            "\u001b[0;31m---------------------------------------------------------------------------\u001b[0m",
            "\u001b[0;31mKeyError\u001b[0m                                  Traceback (most recent call last)",
            "\u001b[0;32m/var/folders/lp/71p77wmn3x7dxlg4mnwx61cw0000gq/T/ipykernel_35434/4229216301.py\u001b[0m in \u001b[0;36m?\u001b[0;34m()\u001b[0m\n\u001b[0;32m----> 1\u001b[0;31m \u001b[0mmhs_2016\u001b[0m\u001b[0;34m.\u001b[0m\u001b[0mset_index\u001b[0m\u001b[0;34m(\u001b[0m\u001b[0;34m\"uniquecolumnheading\"\u001b[0m\u001b[0;34m,\u001b[0m \u001b[0minplace\u001b[0m\u001b[0;34m=\u001b[0m\u001b[0;32mTrue\u001b[0m\u001b[0;34m)\u001b[0m\u001b[0;34m\u001b[0m\u001b[0;34m\u001b[0m\u001b[0m\n\u001b[0m\u001b[1;32m      2\u001b[0m \u001b[0mmhs_2017\u001b[0m\u001b[0;34m.\u001b[0m\u001b[0mset_index\u001b[0m\u001b[0;34m(\u001b[0m\u001b[0;34m\"uniquecolumnheading\"\u001b[0m\u001b[0;34m,\u001b[0m \u001b[0minplace\u001b[0m\u001b[0;34m=\u001b[0m\u001b[0;32mTrue\u001b[0m\u001b[0;34m)\u001b[0m\u001b[0;34m\u001b[0m\u001b[0;34m\u001b[0m\u001b[0m\n\u001b[1;32m      3\u001b[0m \u001b[0mmhs_2018\u001b[0m\u001b[0;34m.\u001b[0m\u001b[0mset_index\u001b[0m\u001b[0;34m(\u001b[0m\u001b[0;34m\"uniquecolumnheading\"\u001b[0m\u001b[0;34m,\u001b[0m \u001b[0minplace\u001b[0m\u001b[0;34m=\u001b[0m\u001b[0;32mTrue\u001b[0m\u001b[0;34m)\u001b[0m\u001b[0;34m\u001b[0m\u001b[0;34m\u001b[0m\u001b[0m\n\u001b[1;32m      4\u001b[0m \u001b[0mmhs_2019\u001b[0m\u001b[0;34m.\u001b[0m\u001b[0mset_index\u001b[0m\u001b[0;34m(\u001b[0m\u001b[0;34m\"uniquecolumnheading\"\u001b[0m\u001b[0;34m,\u001b[0m \u001b[0minplace\u001b[0m\u001b[0;34m=\u001b[0m\u001b[0;32mTrue\u001b[0m\u001b[0;34m)\u001b[0m\u001b[0;34m\u001b[0m\u001b[0;34m\u001b[0m\u001b[0m\n",
            "\u001b[0;32m/opt/anaconda3/lib/python3.11/site-packages/pandas/core/frame.py\u001b[0m in \u001b[0;36m?\u001b[0;34m(self, keys, drop, append, inplace, verify_integrity)\u001b[0m\n\u001b[1;32m   5866\u001b[0m                     \u001b[0;32mif\u001b[0m \u001b[0;32mnot\u001b[0m \u001b[0mfound\u001b[0m\u001b[0;34m:\u001b[0m\u001b[0;34m\u001b[0m\u001b[0;34m\u001b[0m\u001b[0m\n\u001b[1;32m   5867\u001b[0m                         \u001b[0mmissing\u001b[0m\u001b[0;34m.\u001b[0m\u001b[0mappend\u001b[0m\u001b[0;34m(\u001b[0m\u001b[0mcol\u001b[0m\u001b[0;34m)\u001b[0m\u001b[0;34m\u001b[0m\u001b[0;34m\u001b[0m\u001b[0m\n\u001b[1;32m   5868\u001b[0m \u001b[0;34m\u001b[0m\u001b[0m\n\u001b[1;32m   5869\u001b[0m         \u001b[0;32mif\u001b[0m \u001b[0mmissing\u001b[0m\u001b[0;34m:\u001b[0m\u001b[0;34m\u001b[0m\u001b[0;34m\u001b[0m\u001b[0m\n\u001b[0;32m-> 5870\u001b[0;31m             \u001b[0;32mraise\u001b[0m \u001b[0mKeyError\u001b[0m\u001b[0;34m(\u001b[0m\u001b[0;34mf\"None of {missing} are in the columns\"\u001b[0m\u001b[0;34m)\u001b[0m\u001b[0;34m\u001b[0m\u001b[0;34m\u001b[0m\u001b[0m\n\u001b[0m\u001b[1;32m   5871\u001b[0m \u001b[0;34m\u001b[0m\u001b[0m\n\u001b[1;32m   5872\u001b[0m         \u001b[0;32mif\u001b[0m \u001b[0minplace\u001b[0m\u001b[0;34m:\u001b[0m\u001b[0;34m\u001b[0m\u001b[0;34m\u001b[0m\u001b[0m\n\u001b[1;32m   5873\u001b[0m             \u001b[0mframe\u001b[0m \u001b[0;34m=\u001b[0m \u001b[0mself\u001b[0m\u001b[0;34m\u001b[0m\u001b[0;34m\u001b[0m\u001b[0m\n",
            "\u001b[0;31mKeyError\u001b[0m: \"None of ['uniquecolumnheading'] are in the columns\""
          ]
        }
      ],
      "source": [
        "mhs_2016.set_index(\"uniquecolumnheading\", inplace=True)\n",
        "mhs_2017.set_index(\"uniquecolumnheading\", inplace=True)\n",
        "mhs_2018.set_index(\"uniquecolumnheading\", inplace=True)\n",
        "mhs_2019.set_index(\"uniquecolumnheading\", inplace=True)\n",
        "mhs_2020.set_index(\"uniquecolumnheading\", inplace=True)\n",
        "mhs_2021.set_index(\"uniquecolumnheading\", inplace=True)\n",
        "mhs_2022.set_index(\"uniquecolumnheading\", inplace=True)\n",
        "mhs_2023.set_index(\"uniquecolumnheading\", inplace=True)\n",
        "mhs_concat=pd.concat([mhs_2016, mhs_2017,mhs_2018,mhs_2019,mhs_2020,mhs_2021,mhs_2022,mhs_2023], axis=1)\n",
        "mhs_concat.to_csv(\"resources/mhs_concat.csv\")\n",
        "mhs_concat"
      ]
    },
    {
      "cell_type": "code",
      "execution_count": null,
      "metadata": {},
      "outputs": [
        {
          "name": "stdout",
          "output_type": "stream",
          "text": [
            "['are-you-self-employed', 'how-many-employees-does-your-company-or-organization-have', 'is-your-employer-primarily-a-tech-companyorganization', 'is-your-primary-role-within-your-company-related-to-techit', 'does-your-employer-provide-mental-health-benefits-as-part-of-healthcare-coverage', 'do-you-know-the-options-for-mental-health-care-available-under-your-employer-provided-coverage', 'has-your-employer-ever-formally-discussed-mental-health-for-example-as-part-of-a-wellness-campaign-or-other-official-communication', 'does-your-employer-offer-resources-to-learn-more-about-mental-health-concerns-and-options-for-seeking-help', 'is-your-anonymity-protected-if-you-choose-to-take-advantage-of-mental-health-or-substance-abuse-treatment-resources-provided-by-your-employer', 'if-a-mental-health-issue-prompted-you-to-request-a-medical-leave-from-work-asking-for-that-leave-would-be', 'do-you-think-that-discussing-a-mental-health-disorder-with-your-employer-would-have-negative-consequences', 'do-you-think-that-discussing-a-physical-health-issue-with-your-employer-would-have-negative-consequences', 'would-you-feel-comfortable-discussing-a-mental-health-disorder-with-your-coworkers', 'would-you-feel-comfortable-discussing-a-mental-health-disorder-with-your-direct-supervisors', 'do-you-feel-that-your-employer-takes-mental-health-as-seriously-as-physical-health', 'have-you-heard-of-or-observed-negative-consequences-for-co-workers-who-have-been-open-about-mental-health-issues-in-your-workplace', 'do-you-have-medical-coverage-private-insurance-or-state-provided-which-includes-treatment-of-mental-health-issues', 'do-you-know-local-or-online-resources-to-seek-help-for-a-mental-health-disorder', 'if-you-have-been-diagnosed-or-treated-for-a-mental-health-disorder-do-you-ever-reveal-this-to-clients-or-business-contacts', 'if-you-have-revealed-a-mental-health-issue-to-a-client-or-business-contact-do-you-believe-this-has-impacted-you-negatively']\n",
            "['if-you-have-been-diagnosed-or-treated-for-a-mental-health-disorder-do-you-ever-reveal-this-to-coworkers-or-employees', 'if-you-have-revealed-a-mental-health-issue-to-a-coworker-or-employee-do-you-believe-this-has-impacted-you-negatively', 'do-you-believe-your-productivity-is-ever-affected-by-a-mental-health-issue', 'if-yes-what-percentage-of-your-work-time-time-performing-primary-or-secondary-job-functions-is-affected-by-a-mental-health-issue', 'do-you-have-previous-employers', 'have-your-previous-employers-provided-mental-health-benefits', 'were-you-aware-of-the-options-for-mental-health-care-provided-by-your-previous-employers', 'did-your-previous-employers-ever-formally-discuss-mental-health-as-part-of-a-wellness-campaign-or-other-official-communication', 'did-your-previous-employers-provide-resources-to-learn-more-about-mental-health-issues-and-how-to-seek-help', 'was-your-anonymity-protected-if-you-chose-to-take-advantage-of-mental-health-or-substance-abuse-treatment-resources-with-previous-employers', 'do-you-think-that-discussing-a-mental-health-disorder-with-previous-employers-would-have-negative-consequences', 'do-you-think-that-discussing-a-physical-health-issue-with-previous-employers-would-have-negative-consequences', 'would-you-have-been-willing-to-discuss-a-mental-health-issue-with-your-previous-co-workers', 'would-you-have-been-willing-to-discuss-a-mental-health-issue-with-your-direct-supervisors', 'did-you-feel-that-your-previous-employers-took-mental-health-as-seriously-as-physical-health', 'did-you-hear-of-or-observe-negative-consequences-for-co-workers-with-mental-health-issues-in-your-previous-workplaces', 'would-you-be-willing-to-bring-up-a-physical-health-issue-with-a-potential-employer-in-an-interview', 'why-or-why-not', 'would-you-bring-up-a-mental-health-issue-with-a-potential-employer-in-an-interview', 'why-or-why-not1']\n",
            "['do-you-feel-that-being-identified-as-a-person-with-a-mental-health-issue-would-hurt-your-career', 'do-you-think-that-team-membersco-workers-would-view-you-more-negatively-if-they-knew-you-suffered-from-a-mental-health-issue', 'how-willing-would-you-be-to-share-with-friends-and-family-that-you-have-a-mental-illness', 'have-you-observed-or-experienced-an-unsupportive-or-badly-handled-response-to-a-mental-health-issue-in-your-current-or-previous-workplace', 'have-your-observations-of-how-another-individual-who-discussed-a-mental-health-disorder-made-you-less-likely-to-reveal-a-mental-health-issue-yourself-in-your-current-workplace', 'do-you-have-a-family-history-of-mental-illness', 'have-you-had-a-mental-health-disorder-in-the-past', 'do-you-currently-have-a-mental-health-disorder', 'if-yes-what-conditions-have-you-been-diagnosed-with', 'if-maybe-what-conditions-do-you-believe-you-have', 'have-you-been-diagnosed-with-a-mental-health-condition-by-a-medical-professional', 'if-so-what-conditions-were-you-diagnosed-with', 'have-you-ever-sought-treatment-for-a-mental-health-issue-from-a-mental-health-professional', 'if-you-have-a-mental-health-issue-do-you-feel-that-it-interferes-with-your-work-when-being-treated-effectively', 'if-you-have-a-mental-health-issue-do-you-feel-that-it-interferes-with-your-work-when-not-being-treated-effectively', 'what-is-your-age', 'what-is-your-gender', 'what-country-do-you-live-in', 'what-us-state-or-territory-do-you-live-in', 'what-country-do-you-work-in']\n",
            "['what-us-state-or-territory-do-you-work-in', 'which-of-the-following-best-describes-your-work-position', 'do-you-work-remotely', 'are-you-self-employed-', 'how-many-employees-does-your-company-or-organization-have', 'is-your-employer-primarily-a-tech-companyorganization', 'is-your-primary-role-within-your-company-related-to-techit', 'does-your-employer-provide-mental-health-benefits-as-part-of-healthcare-coverage', 'do-you-know-the-options-for-mental-health-care-available-under-your-employer-provided-health-coverage', 'has-your-employer-ever-formally-discussed-mental-health-for-example-as-part-of-a-wellness-campaign-or-other-official-communication', 'does-your-employer-offer-resources-to-learn-more-about-mental-health-disorders-and-options-for-seeking-help', 'is-your-anonymity-protected-if-you-choose-to-take-advantage-of-mental-health-or-substance-abuse-treatment-resources-provided-by-your-employer', 'if-a-mental-health-issue-prompted-you-to-request-a-medical-leave-from-work-how-easy-or-difficult-would-it-be-to-ask-for-that-leave', 'would-you-feel-more-comfortable-talking-to-your-coworkers-about-your-physical-health-or-your-mental-health', 'would-you-feel-comfortable-discussing-a-mental-health-issue-with-your-direct-supervisors', 'have-you-ever-discussed-your-mental-health-with-your-employer', 'describe-the-conversation-you-had-with-your-employer-about-your-mental-health-including-their-reactions-and-what-actions-were-taken-to-address-your-mental-health-issuequestions', 'would-you-feel-comfortable-discussing-a-mental-health-issue-with-your-coworkers', 'have-you-ever-discussed-your-mental-health-with-coworkers', 'describe-the-conversation-with-coworkers-you-had-about-your-mental-health-including-their-reactions']\n",
            "['have-you-ever-had-a-coworker-discuss-their-or-another-coworkers-mental-health-with-you', 'describe-the-conversation-your-coworker-had-with-you-about-their-mental-health-please-do-not-use-names', 'overall-how-much-importance-does-your-employer-place-on-physical-health', 'overall-how-much-importance-does-your-employer-place-on-mental-health', 'do-you-have-medical-coverage-private-insurance-or-state-provided-that-includes-treatment-of-mental-health-disorders', 'do-you-know-local-or-online-resources-to-seek-help-for-a-mental-health-issue', 'if-you-have-been-diagnosed-or-treated-for-a-mental-health-disorder-do-you-ever-reveal-this-to-clients-or-business-contacts-', 'if-you-have-revealed-a-mental-health-disorder-to-a-client-or-business-contact-how-has-this-affected-you-or-the-relationship', 'if-you-have-been-diagnosed-or-treated-for-a-mental-health-disorder-do-you-ever-reveal-this-to-coworkers-or-employees-', 'if-you-have-revealed-a-mental-health-disorder-to-a-coworker-or-employee-how-has-this-impacted-you-or-the-relationship', 'do-you-believe-your-productivity-is-ever-affected-by-a-mental-health-issue', 'if-yes-what-percentage-of-your-work-time-time-performing-primary-or-secondary-job-functions-is-affected-by-a-mental-health-issue', 'do-you-have-previous-employers-', 'was-your-employer-primarily-a-tech-companyorganization', 'have-your-previous-employers-provided-mental-health-benefits-', 'were-you-aware-of-the-options-for-mental-health-care-provided-by-your-previous-employers-', 'did-your-previous-employers-ever-formally-discuss-mental-health-as-part-of-a-wellness-campaign-or-other-official-communication', 'did-your-previous-employers-provide-resources-to-learn-more-about-mental-health-disorders-and-how-to-seek-help', 'was-your-anonymity-protected-if-you-chose-to-take-advantage-of-mental-health-or-substance-abuse-treatment-resources-with-previous-employers', 'would-you-have-felt-more-comfortable-talking-to-your-previous-employer-about-your-physical-health-or-your-mental-health']\n",
            "['would-you-have-been-willing-to-discuss-your-mental-health-with-your-direct-supervisors', 'did-you-ever-discuss-your-mental-health-with-your-previous-employer', 'describe-the-conversation-you-had-with-your-previous-employer-about-your-mental-health-including-their-reactions-and-actions-taken-to-address-your-mental-health-issuequestions', 'would-you-have-been-willing-to-discuss-your-mental-health-with-your-coworkers-at-previous-employers-', 'did-you-ever-discuss-your-mental-health-with-a-previous-coworkers', 'describe-the-conversation-you-had-with-your-previous-coworkers-about-your-mental-health-including-their-reactions', 'did-you-ever-have-a-previous-coworker-discuss-their-or-another-coworkers-mental-health-with-you', 'describe-the-conversation-your-coworker-had-with-you-about-their-mental-health-please-do-not-use-names1', 'overall-how-much-importance-did-your-previous-employer-place-on-physical-health', 'overall-how-much-importance-did-your-previous-employer-place-on-mental-health', 'do-you-currently-have-a-mental-health-disorder', 'have-you-ever-been-diagnosed-with-a-mental-health-disorder', 'anxiety-disorder-generalized-social-phobia-etc', 'mood-disorder-depression-bipolar-disorder-etc', 'psychotic-disorder-schizophrenia-schizoaffective-etc', 'eating-disorder-anorexia-bulimia-etc', 'attention-deficit-hyperactivity-disorder', 'personality-disorder-borderline-antisocial-paranoid-etc', 'obsessive-compulsive-disorder', 'post-traumatic-stress-disorder']\n",
            "['stress-response-syndromes', 'dissociative-disorder', 'substance-use-disorder', 'addictive-disorder', 'other', 'anxiety-disorder-generalized-social-phobia-etc1', 'mood-disorder-depression-bipolar-disorder-etc1', 'psychotic-disorder-schizophrenia-schizoaffective-etc1', 'eating-disorder-anorexia-bulimia-etc1', 'attention-deficit-hyperactivity-disorder1', 'personality-disorder-borderline-antisocial-paranoid-etc1', 'obsessive-compulsive-disorder1', 'post-traumatic-stress-disorder', 'stress-response-syndromes1', 'dissociative-disorder1', 'substance-use-disorder1', 'addictive-disorder1', 'other1', 'anxiety-disorder-generalized-social-phobia-etc2', 'mood-disorder-depression-bipolar-disorder-etc2']\n",
            "['psychotic-disorder-schizophrenia-schizoaffective-etc2', 'eating-disorder-anorexia-bulimia-etc2', 'attention-deficit-hyperactivity-disorder2', 'personality-disorder-borderline-antisocial-paranoid-etc2', 'obsessive-compulsive-disorder2', 'post-traumatic-stress-disorder1', 'stress-response-syndromes2', 'dissociative-disorder2', 'substance-use-disorder2', 'addictive-disorder2', 'other2', 'have-you-had-a-mental-health-disorder-in-the-past', 'have-you-ever-sought-treatment-for-a-mental-health-disorder-from-a-mental-health-professional', 'do-you-have-a-family-history-of-mental-illness', 'if-you-have-a-mental-health-disorder-how-often-do-you-feel-that-it-interferes-with-your-work-when-being-treated-effectively-', 'if-you-have-a-mental-health-disorder-how-often-do-you-feel-that-it-interferes-with-your-work-when-not-being-treated-effectively-ie-when-you-are-experiencing-symptoms-', 'have-your-observations-of-how-another-individual-who-discussed-a-mental-health-issue-made-you-less-likely-to-reveal-a-mental-health-issue-yourself-in-your-current-workplace', 'how-willing-would-you-be-to-share-with-friends-and-family-that-you-have-a-mental-illness', 'would-you-be-willing-to-bring-up-a-physical-health-issue-with-a-potential-employer-in-an-interview', 'why-or-why-not']\n",
            "['would-you-bring-up-your-mental-health-with-a-potential-employer-in-an-interview', 'why-or-why-not1', 'are-you-openly-identified-at-work-as-a-person-with-a-mental-health-issue', 'has-being-identified-as-a-person-with-a-mental-health-issue-affected-your-career', 'how-has-it-affected-your-career', 'if-they-knew-you-suffered-from-a-mental-health-disorder-how-do-you-think-that-team-membersco-workers-would-react', 'have-you-observed-or-experienced-an-unsupportive-or-badly-handled-response-to-a-mental-health-issue-in-your-current-or-previous-workplace-', 'describe-the-circumstances-of-the-badly-handled-or-unsupportive-response', 'have-you-observed-or-experienced-supportive-or-well-handled-response-to-a-mental-health-issue-in-your-current-or-previous-workplace-', 'describe-the-circumstances-of-the-supportive-or-well-handled-response', 'overall-how-well-do-you-think-the-tech-industry-supports-employees-with-mental-health-issues', 'briefly-describe-what-you-think-the-industry-as-a-whole-andor-employers-could-do-to-improve-mental-health-support-for-employees', 'if-there-is-anything-else-you-would-like-to-tell-us-that-has-not-been-covered-by-the-survey-questions-please-use-this-space-to-do-so', 'would-you-be-willing-to-talk-to-one-of-us-more-extensively-about-your-experiences-with-mental-health-issues-in-the-tech-industry-note-that-all-interview-responses-would-be-used-anonymously-and-only-with-your-permission', 'what-is-your-age', 'what-is-your-gender', 'what-country-do-you-live-in', 'what-us-state-or-territory-do-you-live-in', 'what-is-your-race', 'other3']\n",
            "['what-country-do-you-work-in', 'what-us-state-or-territory-do-you-work-in', 'start-date-utc', 'submit-date-utc', 'network-id', 'are-you-self-employed-', 'how-many-employees-does-your-company-or-organization-have', 'is-your-employer-primarily-a-tech-companyorganization', 'is-your-primary-role-within-your-company-related-to-techit', 'does-your-employer-provide-mental-health-benefits-as-part-of-healthcare-coverage', 'do-you-know-the-options-for-mental-health-care-available-under-your-employer-provided-health-coverage', 'has-your-employer-ever-formally-discussed-mental-health-for-example-as-part-of-a-wellness-campaign-or-other-official-communication', 'does-your-employer-offer-resources-to-learn-more-about-mental-health-disorders-and-options-for-seeking-help', 'is-your-anonymity-protected-if-you-choose-to-take-advantage-of-mental-health-or-substance-abuse-treatment-resources-provided-by-your-employer', 'if-a-mental-health-issue-prompted-you-to-request-a-medical-leave-from-work-how-easy-or-difficult-would-it-be-to-ask-for-that-leave', 'would-you-feel-more-comfortable-talking-to-your-coworkers-about-your-physical-health-or-your-mental-health', 'would-you-feel-comfortable-discussing-a-mental-health-issue-with-your-direct-supervisors', 'have-you-ever-discussed-your-mental-health-with-your-employer', 'describe-the-conversation-you-had-with-your-employer-about-your-mental-health-including-their-reactions-and-what-actions-were-taken-to-address-your-mental-health-issuequestions', 'would-you-feel-comfortable-discussing-a-mental-health-issue-with-your-coworkers']\n",
            "['have-you-ever-discussed-your-mental-health-with-coworkers', 'describe-the-conversation-with-coworkers-you-had-about-your-mental-health-including-their-reactions', 'have-you-ever-had-a-coworker-discuss-their-or-another-coworkers-mental-health-with-you', 'describe-the-conversation-your-coworker-had-with-you-about-their-mental-health-please-do-not-use-names', 'overall-how-much-importance-does-your-employer-place-on-physical-health', 'overall-how-much-importance-does-your-employer-place-on-mental-health', 'do-you-have-medical-coverage-private-insurance-or-state-provided-that-includes-treatment-of-mental-health-disorders', 'do-you-know-local-or-online-resources-to-seek-help-for-a-mental-health-issue', 'if-you-have-been-diagnosed-or-treated-for-a-mental-health-disorder-do-you-ever-reveal-this-to-clients-or-business-contacts-', 'if-you-have-revealed-a-mental-health-disorder-to-a-client-or-business-contact-how-has-this-affected-you-or-the-relationship', 'if-you-have-been-diagnosed-or-treated-for-a-mental-health-disorder-do-you-ever-reveal-this-to-coworkers-or-employees-', 'if-you-have-revealed-a-mental-health-disorder-to-a-coworker-or-employee-how-has-this-impacted-you-or-the-relationship', 'do-you-believe-your-productivity-is-ever-affected-by-a-mental-health-issue', 'if-yes-what-percentage-of-your-work-time-time-performing-primary-or-secondary-job-functions-is-affected-by-a-mental-health-issue', 'do-you-have-previous-employers-', 'was-your-employer-primarily-a-tech-companyorganization', 'have-your-previous-employers-provided-mental-health-benefits-', 'were-you-aware-of-the-options-for-mental-health-care-provided-by-your-previous-employers-', 'did-your-previous-employers-ever-formally-discuss-mental-health-as-part-of-a-wellness-campaign-or-other-official-communication', 'did-your-previous-employers-provide-resources-to-learn-more-about-mental-health-disorders-and-how-to-seek-help']\n",
            "['was-your-anonymity-protected-if-you-chose-to-take-advantage-of-mental-health-or-substance-abuse-treatment-resources-with-previous-employers', 'would-you-have-felt-more-comfortable-talking-to-your-previous-employer-about-your-physical-health-or-your-mental-health', 'would-you-have-been-willing-to-discuss-your-mental-health-with-your-direct-supervisors', 'did-you-ever-discuss-your-mental-health-with-your-previous-employer', 'describe-the-conversation-you-had-with-your-previous-employer-about-your-mental-health-including-their-reactions-and-actions-taken-to-address-your-mental-health-issuequestions', 'would-you-have-been-willing-to-discuss-your-mental-health-with-your-coworkers-at-previous-employers-', 'did-you-ever-discuss-your-mental-health-with-a-previous-coworkers', 'describe-the-conversation-you-had-with-your-previous-coworkers-about-your-mental-health-including-their-reactions', 'did-you-ever-have-a-previous-coworker-discuss-their-or-another-coworkers-mental-health-with-you', 'describe-the-conversation-your-coworker-had-with-you-about-their-mental-health-please-do-not-use-names1', 'overall-how-much-importance-did-your-previous-employer-place-on-physical-health', 'overall-how-much-importance-did-your-previous-employer-place-on-mental-health', 'do-you-currently-have-a-mental-health-disorder', 'have-you-ever-been-diagnosed-with-a-mental-health-disorder', 'anxiety-disorder-generalized-social-phobia-etc', 'mood-disorder-depression-bipolar-disorder-etc', 'psychotic-disorder-schizophrenia-schizoaffective-etc', 'eating-disorder-anorexia-bulimia-etc', 'attention-deficit-hyperactivity-disorder', 'personality-disorder-borderline-antisocial-paranoid-etc']\n",
            "['obsessive-compulsive-disorder', 'post-traumatic-stress-disorder', 'stress-response-syndromes', 'dissociative-disorder', 'substance-use-disorder', 'addictive-disorder', 'other', 'anxiety-disorder-generalized-social-phobia-etc1', 'mood-disorder-depression-bipolar-disorder-etc1', 'psychotic-disorder-schizophrenia-schizoaffective-etc1', 'eating-disorder-anorexia-bulimia-etc1', 'attention-deficit-hyperactivity-disorder1', 'personality-disorder-borderline-antisocial-paranoid-etc1', 'obsessive-compulsive-disorder1', 'post-traumatic-stress-disorder', 'stress-response-syndromes1', 'dissociative-disorder1', 'substance-use-disorder1', 'addictive-disorder1', 'other1']\n",
            "['anxiety-disorder-generalized-social-phobia-etc2', 'mood-disorder-depression-bipolar-disorder-etc2', 'psychotic-disorder-schizophrenia-schizoaffective-etc2', 'eating-disorder-anorexia-bulimia-etc2', 'attention-deficit-hyperactivity-disorder2', 'personality-disorder-borderline-antisocial-paranoid-etc2', 'obsessive-compulsive-disorder2', 'post-traumatic-stress-disorder1', 'stress-response-syndromes2', 'dissociative-disorder2', 'substance-use-disorder2', 'addictive-disorder2', 'other2', 'have-you-had-a-mental-health-disorder-in-the-past', 'have-you-ever-sought-treatment-for-a-mental-health-disorder-from-a-mental-health-professional', 'do-you-have-a-family-history-of-mental-illness', 'if-you-have-a-mental-health-disorder-how-often-do-you-feel-that-it-interferes-with-your-work-when-being-treated-effectively-', 'if-you-have-a-mental-health-disorder-how-often-do-you-feel-that-it-interferes-with-your-work-when-not-being-treated-effectively-ie-when-you-are-experiencing-symptoms-', 'have-your-observations-of-how-another-individual-who-discussed-a-mental-health-issue-made-you-less-likely-to-reveal-a-mental-health-issue-yourself-in-your-current-workplace', 'how-willing-would-you-be-to-share-with-friends-and-family-that-you-have-a-mental-illness']\n",
            "['would-you-be-willing-to-bring-up-a-physical-health-issue-with-a-potential-employer-in-an-interview', 'why-or-why-not', 'would-you-bring-up-your-mental-health-with-a-potential-employer-in-an-interview', 'why-or-why-not1', 'are-you-openly-identified-at-work-as-a-person-with-a-mental-health-issue', 'has-being-identified-as-a-person-with-a-mental-health-issue-affected-your-career', 'how-has-it-affected-your-career', 'if-they-knew-you-suffered-from-a-mental-health-disorder-how-do-you-think-that-team-membersco-workers-would-react', 'have-you-observed-or-experienced-an-unsupportive-or-badly-handled-response-to-a-mental-health-issue-in-your-current-or-previous-workplace-', 'describe-the-circumstances-of-the-badly-handled-or-unsupportive-response', 'have-you-observed-or-experienced-supportive-or-well-handled-response-to-a-mental-health-issue-in-your-current-or-previous-workplace-', 'describe-the-circumstances-of-the-supportive-or-well-handled-response', 'overall-how-well-do-you-think-the-tech-industry-supports-employees-with-mental-health-issues', 'briefly-describe-what-you-think-the-industry-as-a-whole-andor-employers-could-do-to-improve-mental-health-support-for-employees', 'if-there-is-anything-else-you-would-like-to-tell-us-that-has-not-been-covered-by-the-survey-questions-please-use-this-space-to-do-so', 'would-you-be-willing-to-talk-to-one-of-us-more-extensively-about-your-experiences-with-mental-health-issues-in-the-tech-industry-note-that-all-interview-responses-would-be-used-anonymously-and-only-with-your-permission', 'what-is-your-age', 'what-is-your-gender', 'what-country-do-you-live-in', 'what-us-state-or-territory-do-you-live-in']\n",
            "['what-is-your-race', 'other3', 'what-country-do-you-work-in', 'what-us-state-or-territory-do-you-work-in', 'start-date-utc', 'submit-date-utc', 'network-id', 'are-you-self-employed', 'how-many-employees-does-your-company-or-organization-have', 'is-your-employer-primarily-a-tech-companyorganization', 'is-your-primary-role-within-your-company-related-to-techit', 'does-your-employer-provide-mental-health-benefits-as-part-of-healthcare-coverage', 'do-you-know-the-options-for-mental-health-care-available-under-your-employer-provided-health-coverage', 'has-your-employer-ever-formally-discussed-mental-health-for-example-as-part-of-a-wellness-campaign-or-other-official-communication', 'does-your-employer-offer-resources-to-learn-more-about-mental-health-disorders-and-options-for-seeking-help', 'is-your-anonymity-protected-if-you-choose-to-take-advantage-of-mental-health-or-substance-abuse-treatment-resources-provided-by-your-employer', 'if-a-mental-health-issue-prompted-you-to-request-a-medical-leave-from-work-how-easy-or-difficult-would-it-be-to-ask-for-that-leave', 'would-you-feel-more-comfortable-talking-to-your-coworkers-about-your-physical-health-or-your-mental-health', 'would-you-feel-comfortable-discussing-a-mental-health-issue-with-your-direct-supervisors', 'have-you-ever-discussed-your-mental-health-with-your-employer']\n",
            "['describe-the-conversation-you-had-with-your-employer-about-your-mental-health-including-their-reactions-and-what-actions-were-taken-to-address-your-mental-health-issuequestions', 'would-you-feel-comfortable-discussing-a-mental-health-issue-with-your-coworkers', 'have-you-ever-discussed-your-mental-health-with-coworkers', 'describe-the-conversation-with-coworkers-you-had-about-your-mental-health-including-their-reactions', 'have-you-ever-had-a-coworker-discuss-their-or-another-coworkers-mental-health-with-you', 'describe-the-conversation-your-coworker-had-with-you-about-their-mental-health-please-do-not-use-names', 'overall-how-much-importance-does-your-employer-place-on-physical-health', 'overall-how-much-importance-does-your-employer-place-on-mental-health', 'do-you-have-medical-coverage-private-insurance-or-state-provided-that-includes-treatment-of-mental-health-disorders', 'do-you-know-local-or-online-resources-to-seek-help-for-a-mental-health-issue', 'if-you-have-been-diagnosed-or-treated-for-a-mental-health-disorder-do-you-ever-reveal-this-to-clients-or-business-contacts', 'if-you-have-revealed-a-mental-health-disorder-to-a-client-or-business-contact-how-has-this-affected-you-or-the-relationship', 'if-you-have-been-diagnosed-or-treated-for-a-mental-health-disorder-do-you-ever-reveal-this-to-coworkers-or-employees', 'if-you-have-revealed-a-mental-health-disorder-to-a-coworker-or-employee-how-has-this-impacted-you-or-the-relationship', 'do-you-believe-your-productivity-is-ever-affected-by-a-mental-health-issue', 'if-yes-what-percentage-of-your-work-time-time-performing-primary-or-secondary-job-functions-is-affected-by-a-mental-health-issue', 'do-you-have-previous-employers', 'was-your-employer-primarily-a-tech-companyorganization', 'have-your-previous-employers-provided-mental-health-benefits', 'were-you-aware-of-the-options-for-mental-health-care-provided-by-your-previous-employers']\n",
            "['did-your-previous-employers-ever-formally-discuss-mental-health-as-part-of-a-wellness-campaign-or-other-official-communication', 'did-your-previous-employers-provide-resources-to-learn-more-about-mental-health-disorders-and-how-to-seek-help', 'was-your-anonymity-protected-if-you-chose-to-take-advantage-of-mental-health-or-substance-abuse-treatment-resources-with-previous-employers', 'would-you-have-felt-more-comfortable-talking-to-your-previous-employer-about-your-physical-health-or-your-mental-health', 'would-you-have-been-willing-to-discuss-your-mental-health-with-your-direct-supervisors', 'did-you-ever-discuss-your-mental-health-with-your-previous-employer', 'describe-the-conversation-you-had-with-your-previous-employer-about-your-mental-health-including-their-reactions-and-actions-taken-to-address-your-mental-health-issuequestions', 'would-you-have-been-willing-to-discuss-your-mental-health-with-your-coworkers-at-previous-employers', 'did-you-ever-discuss-your-mental-health-with-a-previous-coworkers', 'describe-the-conversation-you-had-with-your-previous-coworkers-about-your-mental-health-including-their-reactions', 'did-you-ever-have-a-previous-coworker-discuss-their-or-another-coworkers-mental-health-with-you', 'describe-the-conversation-your-coworker-had-with-you-about-their-mental-health-please-do-not-use-names1', 'overall-how-much-importance-did-your-previous-employer-place-on-physical-health', 'overall-how-much-importance-did-your-previous-employer-place-on-mental-health', 'do-you-currently-have-a-mental-health-disorder', 'have-you-ever-been-diagnosed-with-a-mental-health-disorder', 'what-disorders-have-you-been-diagnosed-with', 'if-possibly-what-disorders-do-you-believe-you-have', 'if-so-what-disorders-were-you-diagnosed-with', 'have-you-had-a-mental-health-disorder-in-the-past']\n",
            "['have-you-ever-sought-treatment-for-a-mental-health-disorder-from-a-mental-health-professional', 'do-you-have-a-family-history-of-mental-illness', 'if-you-have-a-mental-health-disorder-how-often-do-you-feel-that-it-interferes-with-your-work-when-being-treated-effectively', 'if-you-have-a-mental-health-disorder-how-often-do-you-feel-that-it-interferes-with-your-work-when-not-being-treated-effectively-ie-when-you-are-experiencing-symptoms', 'have-your-observations-of-how-another-individual-who-discussed-a-mental-health-issue-made-you-less-likely-to-reveal-a-mental-health-issue-yourself-in-your-current-workplace', 'how-willing-would-you-be-to-share-with-friends-and-family-that-you-have-a-mental-illness', 'would-you-be-willing-to-bring-up-a-physical-health-issue-with-a-potential-employer-in-an-interview', 'why-or-why-not', 'would-you-bring-up-your-mental-health-with-a-potential-employer-in-an-interview', 'why-or-why-not1', 'are-you-openly-identified-at-work-as-a-person-with-a-mental-health-issue', 'has-being-identified-as-a-person-with-a-mental-health-issue-affected-your-career', 'how-has-it-affected-your-career', 'if-they-knew-you-suffered-from-a-mental-health-disorder-how-do-you-think-that-your-team-membersco-workers-would-react', 'have-you-observed-or-experienced-an-unsupportive-or-badly-handled-response-to-a-mental-health-issue-in-your-current-or-previous-workplace', 'describe-the-circumstances-of-the-badly-handled-or-unsupportive-response', 'have-you-observed-or-experienced-a-supportive-or-well-handled-response-to-a-mental-health-issue-in-your-current-or-previous-workplace', 'describe-the-circumstances-of-the-supportive-or-well-handled-response', 'overall-how-well-do-you-think-the-tech-industry-supports-employees-with-mental-health-issues', 'briefly-describe-what-you-think-the-industry-as-a-whole-andor-employers-could-do-to-improve-mental-health-support-for-employees']\n",
            "['if-there-is-anything-else-you-would-like-to-tell-us-that-has-not-been-covered-by-the-survey-questions-please-use-this-space-to-do-so', 'would-you-be-willing-to-talk-to-one-of-us-more-extensively-about-your-experiences-with-mental-health-issues-in-the-tech-industry-note-that-all-interview-responses-would-be-used-anonymously-and-only-with-your-permission', 'what-is-your-age', 'what-is-your-gender', 'what-country-do-you-live-in', 'what-us-state-or-territory-do-you-live-in', 'what-is-your-race', 'what-country-do-you-work-in', 'what-us-state-or-territory-do-you-work-in', 'are-you-self-employed', 'how-many-employees-does-your-company-or-organization-have', 'is-your-employer-primarily-a-tech-companyorganization', 'is-your-primary-role-within-your-company-related-to-techit', 'does-your-employer-provide-mental-health-benefits-as-part-of-healthcare-coverage', 'do-you-know-the-options-for-mental-health-care-available-under-your-employer-provided-health-coverage', 'has-your-employer-ever-formally-discussed-mental-health-for-example-as-part-of-a-wellness-campaign-or-other-official-communication', 'does-your-employer-offer-resources-to-learn-more-about-mental-health-disorders-and-options-for-seeking-help', 'is-your-anonymity-protected-if-you-choose-to-take-advantage-of-mental-health-or-substance-abuse-treatment-resources-provided-by-your-employer', 'if-a-mental-health-issue-prompted-you-to-request-a-medical-leave-from-work-how-easy-or-difficult-would-it-be-to-ask-for-that-leave', 'would-you-feel-more-comfortable-talking-to-your-coworkers-about-your-physical-health-or-your-mental-health']\n",
            "['would-you-feel-comfortable-discussing-a-mental-health-issue-with-your-direct-supervisors', 'have-you-ever-discussed-your-mental-health-with-your-employer', 'describe-the-conversation-you-had-with-your-employer-about-your-mental-health-including-their-reactions-and-what-actions-were-taken-to-address-your-mental-health-issuequestions', 'would-you-feel-comfortable-discussing-a-mental-health-issue-with-your-coworkers', 'have-you-ever-discussed-your-mental-health-with-coworkers', 'describe-the-conversation-with-coworkers-you-had-about-your-mental-health-including-their-reactions', 'have-you-ever-had-a-coworker-discuss-their-or-another-coworkers-mental-health-with-you', 'describe-the-conversation-your-coworker-had-with-you-about-their-mental-health-please-do-not-use-names', 'overall-how-much-importance-does-your-employer-place-on-physical-health', 'overall-how-much-importance-does-your-employer-place-on-mental-health', 'do-you-have-medical-coverage-private-insurance-or-state-provided-that-includes-treatment-of-mental-health-disorders', 'do-you-know-local-or-online-resources-to-seek-help-for-a-mental-health-issue', 'if-you-have-been-diagnosed-or-treated-for-a-mental-health-disorder-do-you-ever-reveal-this-to-clients-or-business-contacts', 'if-you-have-revealed-a-mental-health-disorder-to-a-client-or-business-contact-how-has-this-affected-you-or-the-relationship', 'if-you-have-been-diagnosed-or-treated-for-a-mental-health-disorder-do-you-ever-reveal-this-to-coworkers-or-employees', 'if-you-have-revealed-a-mental-health-disorder-to-a-coworker-or-employee-how-has-this-impacted-you-or-the-relationship', 'do-you-believe-your-productivity-is-ever-affected-by-a-mental-health-issue', 'if-yes-what-percentage-of-your-work-time-time-performing-primary-or-secondary-job-functions-is-affected-by-a-mental-health-issue', 'do-you-have-previous-employers', 'was-your-employer-primarily-a-tech-companyorganization']\n",
            "['have-your-previous-employers-provided-mental-health-benefits', 'were-you-aware-of-the-options-for-mental-health-care-provided-by-your-previous-employers', 'did-your-previous-employers-ever-formally-discuss-mental-health-as-part-of-a-wellness-campaign-or-other-official-communication', 'did-your-previous-employers-provide-resources-to-learn-more-about-mental-health-disorders-and-how-to-seek-help', 'was-your-anonymity-protected-if-you-chose-to-take-advantage-of-mental-health-or-substance-abuse-treatment-resources-with-previous-employers', 'would-you-have-felt-more-comfortable-talking-to-your-previous-employer-about-your-physical-health-or-your-mental-health', 'would-you-have-been-willing-to-discuss-your-mental-health-with-your-direct-supervisors', 'did-you-ever-discuss-your-mental-health-with-your-previous-employer', 'describe-the-conversation-you-had-with-your-previous-employer-about-your-mental-health-including-their-reactions-and-actions-taken-to-address-your-mental-health-issuequestions', 'would-you-have-been-willing-to-discuss-your-mental-health-with-your-coworkers-at-previous-employers', 'did-you-ever-discuss-your-mental-health-with-a-previous-coworkers', 'describe-the-conversation-you-had-with-your-previous-coworkers-about-your-mental-health-including-their-reactions', 'did-you-ever-have-a-previous-coworker-discuss-their-or-another-coworkers-mental-health-with-you', 'describe-the-conversation-your-coworker-had-with-you-about-their-mental-health-please-do-not-use-names1', 'overall-how-much-importance-did-your-previous-employer-place-on-physical-health', 'overall-how-much-importance-did-your-previous-employer-place-on-mental-health', 'do-you-currently-have-a-mental-health-disorder', 'have-you-ever-been-diagnosed-with-a-mental-health-disorder', 'anxiety-disorder-generalized-social-phobia-etc', 'mood-disorder-depression-bipolar-disorder-etc']\n",
            "['psychotic-disorder-schizophrenia-schizoaffective-etc', 'eating-disorder-anorexia-bulimia-etc', 'attention-deficit-hyperactivity-disorder', 'personality-disorder-borderline-antisocial-paranoid-etc', 'obsessive-compulsive-disorder', 'post-traumatic-stress-disorder', 'stress-response-syndromes', 'dissociative-disorder', 'substance-use-disorder', 'addictive-disorder', 'other', 'anxiety-disorder-generalized-social-phobia-etc1', 'mood-disorder-depression-bipolar-disorder-etc1', 'psychotic-disorder-schizophrenia-schizoaffective-etc1', 'eating-disorder-anorexia-bulimia-etc1', 'attention-deficit-hyperactivity-disorder1', 'personality-disorder-borderline-antisocial-paranoid-etc1', 'obsessive-compulsive-disorder1', 'post-traumatic-stress-disorder', 'stress-response-syndromes1']\n",
            "['dissociative-disorder1', 'substance-use-disorder1', 'addictive-disorder1', 'other1', 'anxiety-disorder-generalized-social-phobia-etc2', 'mood-disorder-depression-bipolar-disorder-etc2', 'psychotic-disorder-schizophrenia-schizoaffective-etc2', 'eating-disorder-anorexia-bulimia-etc2', 'attention-deficit-hyperactivity-disorder2', 'personality-disorder-borderline-antisocial-paranoid-etc2', 'obsessive-compulsive-disorder2', 'post-traumatic-stress-disorder1', 'stress-response-syndromes2', 'dissociative-disorder2', 'substance-use-disorder2', 'addictive-disorder2', 'other2', 'have-you-had-a-mental-health-disorder-in-the-past', 'have-you-ever-sought-treatment-for-a-mental-health-disorder-from-a-mental-health-professional', 'do-you-have-a-family-history-of-mental-illness']\n",
            "['if-you-have-a-mental-health-disorder-how-often-do-you-feel-that-it-interferes-with-your-work-when-being-treated-effectively', 'if-you-have-a-mental-health-disorder-how-often-do-you-feel-that-it-interferes-with-your-work-when-not-being-treated-effectively-ie-when-you-are-experiencing-symptoms', 'have-your-observations-of-how-another-individual-who-discussed-a-mental-health-issue-made-you-less-likely-to-reveal-a-mental-health-issue-yourself-in-your-current-workplace', 'how-willing-would-you-be-to-share-with-friends-and-family-that-you-have-a-mental-illness', 'would-you-be-willing-to-bring-up-a-physical-health-issue-with-a-potential-employer-in-an-interview', 'why-or-why-not', 'would-you-bring-up-your-mental-health-with-a-potential-employer-in-an-interview', 'why-or-why-not1', 'are-you-openly-identified-at-work-as-a-person-with-a-mental-health-issue', 'has-being-identified-as-a-person-with-a-mental-health-issue-affected-your-career', 'how-has-it-affected-your-career', 'if-they-knew-you-suffered-from-a-mental-health-disorder-how-do-you-think-that-your-team-membersco-workers-would-react', 'have-you-observed-or-experienced-an-unsupportive-or-badly-handled-response-to-a-mental-health-issue-in-your-current-or-previous-workplace', 'describe-the-circumstances-of-the-badly-handled-or-unsupportive-response', 'have-you-observed-or-experienced-a-supportive-or-well-handled-response-to-a-mental-health-issue-in-your-current-or-previous-workplace', 'describe-the-circumstances-of-the-supportive-or-well-handled-response', 'overall-how-well-do-you-think-the-tech-industry-supports-employees-with-mental-health-issues', 'briefly-describe-what-you-think-the-industry-as-a-whole-andor-employers-could-do-to-improve-mental-health-support-for-employees', 'if-there-is-anything-else-you-would-like-to-tell-us-that-has-not-been-covered-by-the-survey-questions-please-use-this-space-to-do-so', 'would-you-be-willing-to-talk-to-one-of-us-more-extensively-about-your-experiences-with-mental-health-issues-in-the-tech-industry-note-that-all-interview-responses-would-be-used-anonymously-and-only-with-your-permission']\n",
            "['what-is-your-age', 'what-is-your-gender', 'what-country-do-you-live-in', 'what-us-state-or-territory-do-you-live-in', 'what-is-your-race', 'other3', 'what-country-do-you-work-in', 'what-us-state-or-territory-do-you-work-in', 'are-you-self-employed', 'how-many-employees-does-your-company-or-organization-have', 'is-your-employer-primarily-a-tech-companyorganization', 'is-your-primary-role-within-your-company-related-to-techit', 'does-your-employer-provide-mental-health-benefits-as-part-of-healthcare-coverage', 'do-you-know-the-options-for-mental-health-care-available-under-your-employer-provided-health-coverage', 'has-your-employer-ever-formally-discussed-mental-health-for-example-as-part-of-a-wellness-campaign-or-other-official-communication', 'does-your-employer-offer-resources-to-learn-more-about-mental-health-disorders-and-options-for-seeking-help', 'is-your-anonymity-protected-if-you-choose-to-take-advantage-of-mental-health-or-substance-abuse-treatment-resources-provided-by-your-employer', 'if-a-mental-health-issue-prompted-you-to-request-a-medical-leave-from-work-how-easy-or-difficult-would-it-be-to-ask-for-that-leave', 'would-you-feel-more-comfortable-talking-to-your-coworkers-about-your-physical-health-or-your-mental-health', 'would-you-feel-comfortable-discussing-a-mental-health-issue-with-your-direct-supervisors']\n",
            "['have-you-ever-discussed-your-mental-health-with-your-employer', 'describe-the-conversation-you-had-with-your-employer-about-your-mental-health-including-their-reactions-and-what-actions-were-taken-to-address-your-mental-health-issuequestions', 'would-you-feel-comfortable-discussing-a-mental-health-issue-with-your-coworkers', 'have-you-ever-discussed-your-mental-health-with-coworkers', 'describe-the-conversation-with-coworkers-you-had-about-your-mental-health-including-their-reactions', 'have-you-ever-had-a-coworker-discuss-their-or-another-coworkers-mental-health-with-you', 'describe-the-conversation-your-coworker-had-with-you-about-their-mental-health-please-do-not-use-names', 'overall-how-much-importance-does-your-employer-place-on-physical-health', 'overall-how-much-importance-does-your-employer-place-on-mental-health', 'do-you-have-medical-coverage-private-insurance-or-state-provided-that-includes-treatment-of-mental-health-disorders', 'do-you-know-local-or-online-resources-to-seek-help-for-a-mental-health-issue', 'if-you-have-been-diagnosed-or-treated-for-a-mental-health-disorder-do-you-ever-reveal-this-to-clients-or-business-contacts', 'if-you-have-revealed-a-mental-health-disorder-to-a-client-or-business-contact-how-has-this-affected-you-or-the-relationship', 'if-you-have-been-diagnosed-or-treated-for-a-mental-health-disorder-do-you-ever-reveal-this-to-coworkers-or-employees', 'if-you-have-revealed-a-mental-health-disorder-to-a-coworker-or-employee-how-has-this-impacted-you-or-the-relationship', 'do-you-believe-your-productivity-is-ever-affected-by-a-mental-health-issue', 'if-yes-what-percentage-of-your-work-time-time-performing-primary-or-secondary-job-functions-is-affected-by-a-mental-health-issue', 'do-you-have-previous-employers', 'was-your-employer-primarily-a-tech-companyorganization', 'have-your-previous-employers-provided-mental-health-benefits']\n",
            "['were-you-aware-of-the-options-for-mental-health-care-provided-by-your-previous-employers', 'did-your-previous-employers-ever-formally-discuss-mental-health-as-part-of-a-wellness-campaign-or-other-official-communication', 'did-your-previous-employers-provide-resources-to-learn-more-about-mental-health-disorders-and-how-to-seek-help', 'was-your-anonymity-protected-if-you-chose-to-take-advantage-of-mental-health-or-substance-abuse-treatment-resources-with-previous-employers', 'would-you-have-felt-more-comfortable-talking-to-your-previous-employer-about-your-physical-health-or-your-mental-health', 'would-you-have-been-willing-to-discuss-your-mental-health-with-your-direct-supervisors', 'did-you-ever-discuss-your-mental-health-with-your-previous-employer', 'describe-the-conversation-you-had-with-your-previous-employer-about-your-mental-health-including-their-reactions-and-actions-taken-to-address-your-mental-health-issuequestions', 'would-you-have-been-willing-to-discuss-your-mental-health-with-your-coworkers-at-previous-employers', 'did-you-ever-discuss-your-mental-health-with-a-previous-coworkers', 'describe-the-conversation-you-had-with-your-previous-coworkers-about-your-mental-health-including-their-reactions', 'did-you-ever-have-a-previous-coworker-discuss-their-or-another-coworkers-mental-health-with-you', 'describe-the-conversation-your-coworker-had-with-you-about-their-mental-health-please-do-not-use-names1', 'overall-how-much-importance-did-your-previous-employer-place-on-physical-health', 'overall-how-much-importance-did-your-previous-employer-place-on-mental-health', 'do-you-currently-have-a-mental-health-disorder', 'have-you-ever-been-diagnosed-with-a-mental-health-disorder', 'anxiety-disorder-generalized-social-phobia-etc', 'mood-disorder-depression-bipolar-disorder-etc', 'psychotic-disorder-schizophrenia-schizoaffective-etc']\n",
            "['eating-disorder-anorexia-bulimia-etc', 'attention-deficit-hyperactivity-disorder', 'personality-disorder-borderline-antisocial-paranoid-etc', 'obsessive-compulsive-disorder', 'post-traumatic-stress-disorder', 'stress-response-syndromes', 'dissociative-disorder', 'substance-use-disorder', 'addictive-disorder', 'other', 'anxiety-disorder-generalized-social-phobia-etc1', 'mood-disorder-depression-bipolar-disorder-etc1', 'psychotic-disorder-schizophrenia-schizoaffective-etc1', 'eating-disorder-anorexia-bulimia-etc1', 'attention-deficit-hyperactivity-disorder1', 'personality-disorder-borderline-antisocial-paranoid-etc1', 'obsessive-compulsive-disorder1', 'post-traumatic-stress-disorder', 'stress-response-syndromes1', 'dissociative-disorder1']\n",
            "['substance-use-disorder1', 'addictive-disorder1', 'other1', 'anxiety-disorder-generalized-social-phobia-etc2', 'mood-disorder-depression-bipolar-disorder-etc2', 'psychotic-disorder-schizophrenia-schizoaffective-etc2', 'eating-disorder-anorexia-bulimia-etc2', 'attention-deficit-hyperactivity-disorder2', 'personality-disorder-borderline-antisocial-paranoid-etc2', 'obsessive-compulsive-disorder2', 'post-traumatic-stress-disorder1', 'stress-response-syndromes2', 'dissociative-disorder2', 'substance-use-disorder2', 'addictive-disorder2', 'other2', 'have-you-had-a-mental-health-disorder-in-the-past', 'have-you-ever-sought-treatment-for-a-mental-health-disorder-from-a-mental-health-professional', 'do-you-have-a-family-history-of-mental-illness', 'if-you-have-a-mental-health-disorder-how-often-do-you-feel-that-it-interferes-with-your-work-when-being-treated-effectively']\n",
            "['if-you-have-a-mental-health-disorder-how-often-do-you-feel-that-it-interferes-with-your-work-when-not-being-treated-effectively-ie-when-you-are-experiencing-symptoms', 'have-your-observations-of-how-another-individual-who-discussed-a-mental-health-issue-made-you-less-likely-to-reveal-a-mental-health-issue-yourself-in-your-current-workplace', 'how-willing-would-you-be-to-share-with-friends-and-family-that-you-have-a-mental-illness', 'would-you-be-willing-to-bring-up-a-physical-health-issue-with-a-potential-employer-in-an-interview', 'why-or-why-not', 'would-you-bring-up-your-mental-health-with-a-potential-employer-in-an-interview', 'why-or-why-not1', 'are-you-openly-identified-at-work-as-a-person-with-a-mental-health-issue', 'has-being-identified-as-a-person-with-a-mental-health-issue-affected-your-career', 'how-has-it-affected-your-career', 'if-they-knew-you-suffered-from-a-mental-health-disorder-how-do-you-think-that-your-team-membersco-workers-would-react', 'have-you-observed-or-experienced-an-unsupportive-or-badly-handled-response-to-a-mental-health-issue-in-your-current-or-previous-workplace', 'describe-the-circumstances-of-the-badly-handled-or-unsupportive-response', 'have-you-observed-or-experienced-a-supportive-or-well-handled-response-to-a-mental-health-issue-in-your-current-or-previous-workplace', 'describe-the-circumstances-of-the-supportive-or-well-handled-response', 'overall-how-well-do-you-think-the-tech-industry-supports-employees-with-mental-health-issues', 'briefly-describe-what-you-think-the-industry-as-a-whole-andor-employers-could-do-to-improve-mental-health-support-for-employees', 'if-there-is-anything-else-you-would-like-to-tell-us-that-has-not-been-covered-by-the-survey-questions-please-use-this-space-to-do-so', 'would-you-be-willing-to-talk-to-one-of-us-more-extensively-about-your-experiences-with-mental-health-issues-in-the-tech-industry-note-that-all-interview-responses-would-be-used-anonymously-and-only-with-your-permission', 'what-is-your-age']\n",
            "['what-is-your-gender', 'what-country-do-you-live-in', 'what-us-state-or-territory-do-you-live-in', 'what-is-your-race', 'other3', 'what-country-do-you-work-in', 'what-us-state-or-territory-do-you-work-in', 'have-you-been-diagnosed-with-covid-19', 'start-date-utc', 'submit-date-utc', 'network-id', 'are-you-self-employed', 'how-many-employees-does-your-company-or-organization-have', 'is-your-employer-primarily-a-tech-companyorganization', 'is-your-primary-role-within-your-company-related-to-techit', 'does-your-employer-provide-mental-health-benefits-as-part-of-healthcare-coverage', 'do-you-know-the-options-for-mental-health-care-available-under-your-employer-provided-health-coverage', 'has-your-employer-ever-formally-discussed-mental-health-for-example-as-part-of-a-wellness-campaign-or-other-official-communication', 'does-your-employer-offer-resources-to-learn-more-about-mental-health-disorders-and-options-for-seeking-help', 'is-your-anonymity-protected-if-you-choose-to-take-advantage-of-mental-health-or-substance-abuse-treatment-resources-provided-by-your-employer']\n",
            "['if-a-mental-health-issue-prompted-you-to-request-a-medical-leave-from-work-how-easy-or-difficult-would-it-be-to-ask-for-that-leave', 'would-you-feel-more-comfortable-talking-to-your-coworkers-about-your-physical-health-or-your-mental-health', 'would-you-feel-comfortable-discussing-a-mental-health-issue-with-your-direct-supervisors', 'have-you-ever-discussed-your-mental-health-with-your-employer', 'describe-the-conversation-you-had-with-your-employer-about-your-mental-health-including-their-reactions-and-what-actions-were-taken-to-address-your-mental-health-issuequestions', 'would-you-feel-comfortable-discussing-a-mental-health-issue-with-your-coworkers', 'have-you-ever-discussed-your-mental-health-with-coworkers', 'describe-the-conversation-with-coworkers-you-had-about-your-mental-health-including-their-reactions', 'have-you-ever-had-a-coworker-discuss-their-or-another-coworkers-mental-health-with-you', 'describe-the-conversation-your-coworker-had-with-you-about-their-mental-health-please-do-not-use-names', 'overall-how-much-importance-does-your-employer-place-on-physical-health', 'overall-how-much-importance-does-your-employer-place-on-mental-health', 'do-you-have-medical-coverage-private-insurance-or-state-provided-that-includes-treatment-of-mental-health-disorders', 'do-you-know-local-or-online-resources-to-seek-help-for-a-mental-health-issue', 'if-you-have-been-diagnosed-or-treated-for-a-mental-health-disorder-do-you-ever-reveal-this-to-clients-or-business-contacts', 'if-you-have-revealed-a-mental-health-disorder-to-a-client-or-business-contact-how-has-this-affected-you-or-the-relationship', 'if-you-have-been-diagnosed-or-treated-for-a-mental-health-disorder-do-you-ever-reveal-this-to-coworkers-or-employees', 'if-you-have-revealed-a-mental-health-disorder-to-a-coworker-or-employee-how-has-this-impacted-you-or-the-relationship', 'do-you-believe-your-productivity-is-ever-affected-by-a-mental-health-issue', 'if-yes-what-percentage-of-your-work-time-time-performing-primary-or-secondary-job-functions-is-affected-by-a-mental-health-issue']\n",
            "['do-you-have-previous-employers', 'was-your-employer-primarily-a-tech-companyorganization', 'have-your-previous-employers-provided-mental-health-benefits', 'were-you-aware-of-the-options-for-mental-health-care-provided-by-your-previous-employers', 'did-your-previous-employers-ever-formally-discuss-mental-health-as-part-of-a-wellness-campaign-or-other-official-communication', 'did-your-previous-employers-provide-resources-to-learn-more-about-mental-health-disorders-and-how-to-seek-help', 'was-your-anonymity-protected-if-you-chose-to-take-advantage-of-mental-health-or-substance-abuse-treatment-resources-with-previous-employers', 'would-you-have-felt-more-comfortable-talking-to-your-previous-employer-about-your-physical-health-or-your-mental-health', 'would-you-have-been-willing-to-discuss-your-mental-health-with-your-direct-supervisors', 'did-you-ever-discuss-your-mental-health-with-your-previous-employer', 'describe-the-conversation-you-had-with-your-previous-employer-about-your-mental-health-including-their-reactions-and-actions-taken-to-address-your-mental-health-issuequestions', 'would-you-have-been-willing-to-discuss-your-mental-health-with-your-coworkers-at-previous-employers', 'did-you-ever-discuss-your-mental-health-with-a-previous-coworkers', 'describe-the-conversation-you-had-with-your-previous-coworkers-about-your-mental-health-including-their-reactions', 'did-you-ever-have-a-previous-coworker-discuss-their-or-another-coworkers-mental-health-with-you', 'describe-the-conversation-your-coworker-had-with-you-about-their-mental-health-please-do-not-use-names1', 'overall-how-much-importance-did-your-previous-employer-place-on-physical-health', 'overall-how-much-importance-did-your-previous-employer-place-on-mental-health', 'do-you-currently-have-a-mental-health-disorder', 'have-you-ever-been-diagnosed-with-a-mental-health-disorder']\n",
            "['anxiety-disorder-generalized-social-phobia-etc', 'mood-disorder-depression-bipolar-disorder-etc', 'psychotic-disorder-schizophrenia-schizoaffective-etc', 'eating-disorder-anorexia-bulimia-etc', 'attention-deficit-hyperactivity-disorder', 'personality-disorder-borderline-antisocial-paranoid-etc', 'obsessive-compulsive-disorder', 'post-traumatic-stress-disorder', 'stress-response-syndromes', 'dissociative-disorder', 'substance-use-disorder', 'addictive-disorder', 'other', 'anxiety-disorder-generalized-social-phobia-etc1', 'mood-disorder-depression-bipolar-disorder-etc1', 'psychotic-disorder-schizophrenia-schizoaffective-etc1', 'eating-disorder-anorexia-bulimia-etc1', 'attention-deficit-hyperactivity-disorder1', 'personality-disorder-borderline-antisocial-paranoid-etc1', 'obsessive-compulsive-disorder1']\n",
            "['post-traumatic-stress-disorder', 'stress-response-syndromes1', 'dissociative-disorder1', 'substance-use-disorder1', 'addictive-disorder1', 'other1', 'anxiety-disorder-generalized-social-phobia-etc2', 'mood-disorder-depression-bipolar-disorder-etc2', 'psychotic-disorder-schizophrenia-schizoaffective-etc2', 'eating-disorder-anorexia-bulimia-etc2', 'attention-deficit-hyperactivity-disorder2', 'personality-disorder-borderline-antisocial-paranoid-etc2', 'obsessive-compulsive-disorder2', 'post-traumatic-stress-disorder1', 'stress-response-syndromes2', 'dissociative-disorder2', 'substance-use-disorder2', 'addictive-disorder2', 'other2', 'have-you-had-a-mental-health-disorder-in-the-past']\n",
            "['have-you-ever-sought-treatment-for-a-mental-health-disorder-from-a-mental-health-professional', 'do-you-have-a-family-history-of-mental-illness', 'if-you-have-a-mental-health-disorder-how-often-do-you-feel-that-it-interferes-with-your-work-when-being-treated-effectively', 'if-you-have-a-mental-health-disorder-how-often-do-you-feel-that-it-interferes-with-your-work-when-not-being-treated-effectively-ie-when-you-are-experiencing-symptoms', 'have-your-observations-of-how-another-individual-who-discussed-a-mental-health-issue-made-you-less-likely-to-reveal-a-mental-health-issue-yourself-in-your-current-workplace', 'how-willing-would-you-be-to-share-with-friends-and-family-that-you-have-a-mental-illness', 'would-you-be-willing-to-bring-up-a-physical-health-issue-with-a-potential-employer-in-an-interview', 'why-or-why-not', 'would-you-bring-up-your-mental-health-with-a-potential-employer-in-an-interview', 'why-or-why-not1', 'are-you-openly-identified-at-work-as-a-person-with-a-mental-health-issue', 'has-being-identified-as-a-person-with-a-mental-health-issue-affected-your-career', 'how-has-it-affected-your-career', 'if-they-knew-you-suffered-from-a-mental-health-disorder-how-do-you-think-that-your-team-membersco-workers-would-react', 'have-you-observed-or-experienced-an-unsupportive-or-badly-handled-response-to-a-mental-health-issue-in-your-current-or-previous-workplace', 'describe-the-circumstances-of-the-badly-handled-or-unsupportive-response', 'have-you-observed-or-experienced-a-supportive-or-well-handled-response-to-a-mental-health-issue-in-your-current-or-previous-workplace', 'describe-the-circumstances-of-the-supportive-or-well-handled-response', 'overall-how-well-do-you-think-the-tech-industry-supports-employees-with-mental-health-issues', 'briefly-describe-what-you-think-the-industry-as-a-whole-andor-employers-could-do-to-improve-mental-health-support-for-employees']\n",
            "['if-there-is-anything-else-you-would-like-to-tell-us-that-has-not-been-covered-by-the-survey-questions-please-use-this-space-to-do-so', 'would-you-be-willing-to-talk-to-one-of-us-more-extensively-about-your-experiences-with-mental-health-issues-in-the-tech-industry-note-that-all-interview-responses-would-be-used-anonymously-and-only-with-your-permission', 'what-is-your-age', 'what-is-your-gender', 'what-country-do-you-live-in', 'what-us-state-or-territory-do-you-live-in', 'what-is-your-race', 'other3', 'what-country-do-you-work-in', 'what-us-state-or-territory-do-you-work-in', 'have-you-been-diagnosed-with-covid-19', 'response-type', 'start-date-utc', 'submit-date-utc', 'network-id', 'tags', 'are-you-self-employed', 'how-many-employees-does-your-company-or-organization-have', 'is-your-employer-primarily-a-tech-companyorganization', 'is-your-primary-role-within-your-company-related-to-techit']\n",
            "['does-your-employer-provide-mental-health-benefits-as-part-of-healthcare-coverage', 'do-you-know-the-options-for-mental-health-care-available-under-your-employer-provided-health-coverage', 'has-your-employer-ever-formally-discussed-mental-health-for-example-as-part-of-a-wellness-campaign-or-other-official-communication', 'does-your-employer-offer-resources-to-learn-more-about-mental-health-disorders-and-options-for-seeking-help', 'is-your-anonymity-protected-if-you-choose-to-take-advantage-of-mental-health-or-substance-abuse-treatment-resources-provided-by-your-employer', 'if-a-mental-health-issue-prompted-you-to-request-a-medical-leave-from-work-how-easy-or-difficult-would-it-be-to-ask-for-that-leave', 'would-you-feel-more-comfortable-talking-to-your-coworkers-about-your-physical-health-or-your-mental-health', 'would-you-feel-comfortable-discussing-a-mental-health-issue-with-your-direct-supervisors', 'have-you-ever-discussed-your-mental-health-with-your-employer', 'describe-the-conversation-you-had-with-your-employer-about-your-mental-health-including-their-reactions-and-what-actions-were-taken-to-address-your-mental-health-issuequestions', 'would-you-feel-comfortable-discussing-a-mental-health-issue-with-your-coworkers', 'have-you-ever-discussed-your-mental-health-with-coworkers', 'describe-the-conversation-with-coworkers-you-had-about-your-mental-health-including-their-reactions', 'have-you-ever-had-a-coworker-discuss-their-or-another-coworkers-mental-health-with-you', 'describe-the-conversation-your-coworker-had-with-you-about-their-mental-health-please-do-not-use-names', 'overall-how-much-importance-does-your-employer-place-on-physical-health', 'overall-how-much-importance-does-your-employer-place-on-mental-health', 'do-you-have-medical-coverage-private-insurance-or-state-provided-that-includes-treatment-of-mental-health-disorders', 'do-you-know-local-or-online-resources-to-seek-help-for-a-mental-health-issue', 'if-you-have-been-diagnosed-or-treated-for-a-mental-health-disorder-do-you-ever-reveal-this-to-clients-or-business-contacts']\n",
            "['if-you-have-revealed-a-mental-health-disorder-to-a-client-or-business-contact-how-has-this-affected-you-or-the-relationship', 'if-you-have-been-diagnosed-or-treated-for-a-mental-health-disorder-do-you-ever-reveal-this-to-coworkers-or-employees', 'if-you-have-revealed-a-mental-health-disorder-to-a-coworker-or-employee-how-has-this-impacted-you-or-the-relationship', 'do-you-believe-your-productivity-is-ever-affected-by-a-mental-health-issue', 'if-yes-what-percentage-of-your-work-time-time-performing-primary-or-secondary-job-functions-is-affected-by-a-mental-health-issue', 'do-you-have-previous-employers', 'was-your-employer-primarily-a-tech-companyorganization', 'have-your-previous-employers-provided-mental-health-benefits', 'were-you-aware-of-the-options-for-mental-health-care-provided-by-your-previous-employers', 'did-your-previous-employers-ever-formally-discuss-mental-health-as-part-of-a-wellness-campaign-or-other-official-communication', 'did-your-previous-employers-provide-resources-to-learn-more-about-mental-health-disorders-and-how-to-seek-help', 'was-your-anonymity-protected-if-you-chose-to-take-advantage-of-mental-health-or-substance-abuse-treatment-resources-with-previous-employers', 'would-you-have-felt-more-comfortable-talking-to-your-previous-employer-about-your-physical-health-or-your-mental-health', 'would-you-have-been-willing-to-discuss-your-mental-health-with-your-direct-supervisors', 'did-you-ever-discuss-your-mental-health-with-your-previous-employer', 'describe-the-conversation-you-had-with-your-previous-employer-about-your-mental-health-including-their-reactions-and-actions-taken-to-address-your-mental-health-issuequestions', 'would-you-have-been-willing-to-discuss-your-mental-health-with-your-coworkers-at-previous-employers', 'did-you-ever-discuss-your-mental-health-with-a-previous-coworkers', 'describe-the-conversation-you-had-with-your-previous-coworkers-about-your-mental-health-including-their-reactions', 'did-you-ever-have-a-previous-coworker-discuss-their-or-another-coworkers-mental-health-with-you']\n",
            "['describe-the-conversation-your-coworker-had-with-you-about-their-mental-health-please-do-not-use-names1', 'overall-how-much-importance-did-your-previous-employer-place-on-physical-health', 'overall-how-much-importance-did-your-previous-employer-place-on-mental-health', 'do-you-currently-have-a-mental-health-disorder', 'have-you-ever-been-diagnosed-with-a-mental-health-disorder', 'anxiety-disorder-generalized-social-phobia-etc', 'mood-disorder-depression-bipolar-disorder-etc', 'psychotic-disorder-schizophrenia-schizoaffective-etc', 'eating-disorder-anorexia-bulimia-etc', 'attention-deficit-hyperactivity-disorder', 'personality-disorder-borderline-antisocial-paranoid-etc', 'obsessive-compulsive-disorder', 'post-traumatic-stress-disorder', 'stress-response-syndromes', 'dissociative-disorder', 'substance-use-disorder', 'addictive-disorder', 'other', 'anxiety-disorder-generalized-social-phobia-etc1', 'mood-disorder-depression-bipolar-disorder-etc1']\n",
            "['psychotic-disorder-schizophrenia-schizoaffective-etc1', 'eating-disorder-anorexia-bulimia-etc1', 'attention-deficit-hyperactivity-disorder1', 'personality-disorder-borderline-antisocial-paranoid-etc1', 'obsessive-compulsive-disorder1', 'post-traumatic-stress-disorder', 'stress-response-syndromes1', 'dissociative-disorder1', 'substance-use-disorder1', 'addictive-disorder1', 'other1', 'anxiety-disorder-generalized-social-phobia-etc2', 'mood-disorder-depression-bipolar-disorder-etc2', 'psychotic-disorder-schizophrenia-schizoaffective-etc2', 'eating-disorder-anorexia-bulimia-etc2', 'attention-deficit-hyperactivity-disorder2', 'personality-disorder-borderline-antisocial-paranoid-etc2', 'obsessive-compulsive-disorder2', 'post-traumatic-stress-disorder1', 'stress-response-syndromes2']\n",
            "['dissociative-disorder2', 'substance-use-disorder2', 'addictive-disorder2', 'other2', 'have-you-had-a-mental-health-disorder-in-the-past', 'have-you-ever-sought-treatment-for-a-mental-health-disorder-from-a-mental-health-professional', 'do-you-have-a-family-history-of-mental-illness', 'if-you-have-a-mental-health-disorder-how-often-do-you-feel-that-it-interferes-with-your-work-when-being-treated-effectively', 'if-you-have-a-mental-health-disorder-how-often-do-you-feel-that-it-interferes-with-your-work-when-not-being-treated-effectively-ie-when-you-are-experiencing-symptoms', 'have-your-observations-of-how-another-individual-who-discussed-a-mental-health-issue-made-you-less-likely-to-reveal-a-mental-health-issue-yourself-in-your-current-workplace', 'how-willing-would-you-be-to-share-with-friends-and-family-that-you-have-a-mental-illness', 'would-you-be-willing-to-bring-up-a-physical-health-issue-with-a-potential-employer-in-an-interview', 'why-or-why-not', 'would-you-bring-up-your-mental-health-with-a-potential-employer-in-an-interview', 'why-or-why-not1', 'are-you-openly-identified-at-work-as-a-person-with-a-mental-health-issue', 'has-being-identified-as-a-person-with-a-mental-health-issue-affected-your-career', 'how-has-it-affected-your-career', 'if-they-knew-you-suffered-from-a-mental-health-disorder-how-do-you-think-that-your-team-membersco-workers-would-react', 'have-you-observed-or-experienced-an-unsupportive-or-badly-handled-response-to-a-mental-health-issue-in-your-current-or-previous-workplace']\n",
            "['describe-the-circumstances-of-the-badly-handled-or-unsupportive-response', 'have-you-observed-or-experienced-a-supportive-or-well-handled-response-to-a-mental-health-issue-in-your-current-or-previous-workplace', 'describe-the-circumstances-of-the-supportive-or-well-handled-response', 'overall-how-well-do-you-think-the-tech-industry-supports-employees-with-mental-health-issues', 'briefly-describe-what-you-think-the-industry-as-a-whole-andor-employers-could-do-to-improve-mental-health-support-for-employees', 'if-there-is-anything-else-you-would-like-to-tell-us-that-has-not-been-covered-by-the-survey-questions-please-use-this-space-to-do-so', 'would-you-be-willing-to-talk-to-one-of-us-more-extensively-about-your-experiences-with-mental-health-issues-in-the-tech-industry-note-that-all-interview-responses-would-be-used-anonymously-and-only-with-your-permission', 'what-is-your-age', 'what-is-your-gender', 'what-country-do-you-live-in', 'what-us-state-or-territory-do-you-live-in', 'what-is-your-race', 'other3', 'what-country-do-you-work-in', 'what-us-state-or-territory-do-you-work-in', 'have-you-been-diagnosed-with-covid-19', 'response-type', 'start-date-utc', 'submit-date-utc', 'network-id']\n",
            "['tags']\n"
          ]
        }
      ],
      "source": [
        "column_names = mhs_concat.columns.tolist()\n",
        "\n",
        "chunk_size = 20\n",
        "for i in range(0, len(column_names), chunk_size):\n",
        "    print(column_names[i:i+chunk_size])"
      ]
    }
  ],
  "metadata": {
    "colab": {
      "provenance": []
    },
    "kernelspec": {
      "display_name": "Python 3 (ipykernel)",
      "language": "python",
      "name": "python3"
    },
    "language_info": {
      "codemirror_mode": {
        "name": "ipython",
        "version": 3
      },
      "file_extension": ".py",
      "mimetype": "text/x-python",
      "name": "python",
      "nbconvert_exporter": "python",
      "pygments_lexer": "ipython3",
      "version": "3.11.7"
    }
  },
  "nbformat": 4,
  "nbformat_minor": 0
}
