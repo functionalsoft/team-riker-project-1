{
  "cells": [
    {
      "cell_type": "code",
      "execution_count": 3,
      "metadata": {
        "id": "J9-wSnAiK92e"
      },
      "outputs": [],
      "source": [
        "import pandas as pd\n",
        "from prophet import Prophet\n",
        "import datetime as dt\n",
        "import numpy as np\n",
        "from bs4 import BeautifulSoup\n",
        "import markdown\n",
        "import string\n",
        "import re\n",
        "import matplotlib.pyplot as plt\n",
        "\n",
        "pd.set_option('display.max_columns', None)\n",
        "\n",
        "def remove_html_tags(text):\n",
        "    return BeautifulSoup(text, \"html.parser\").get_text()\n",
        "\n",
        "# Function to remove Markdown\n",
        "def remove_markdown(text):\n",
        "    html = markdown.markdown(text)\n",
        "    return BeautifulSoup(html, \"html.parser\").get_text()\n",
        "\n",
        "def clean_row(row):\n",
        "    return row.apply(lambda x: remove_markdown(remove_html_tags(x)) if isinstance(x, str) else x)\n",
        "\n",
        "def clean_text(text):\n",
        "    text = re.sub(r'-', ' ', text)\n",
        "    text = re.sub(r'#', 'unique_column_heading', text)\n",
        "    text = re.sub(r'None', 'unique_column_heading', text)\n",
        "    text = re.sub(r'<strong>', '', text)\n",
        "    text = re.sub(r'</strong>', ' ', text)\n",
        "    text = re.sub(r'<em>', ' ', text)\n",
        "    text = re.sub(r'</em>', ' ', text)\n",
        "    # Remove punctuation\n",
        "    text = text.translate(str.maketrans('', '', string.punctuation))\n",
        "    # Convert to lowercase\n",
        "    text = text.lower()\n",
        "    # Replace spaces with dashes\n",
        "    text = re.sub(r'\\s+', '-', text)\n",
        "    return text\n",
        "\n",
        "def preprocess_df(df):\n",
        "    df = df.astype(str)\n",
        "    df = df.reset_index(drop=True)\n",
        "    return df\n",
        "\n",
        "def merge_columns(df: pd.DataFrame) -> pd.DataFrame:\n",
        "    merged_columns = {}\n",
        "\n",
        "    # Iterate through columns\n",
        "    for col in df.columns:\n",
        "        if col in merged_columns:\n",
        "            merged_columns[col] = merged_columns[col].fillna('') + ' ' + df[col].fillna('')\n",
        "        else:\n",
        "            merged_columns[col] = df[col].fillna('')\n",
        "\n",
        "    merged_df = pd.DataFrame(merged_columns)\n",
        "\n",
        "    return merged_df\n",
        "\n",
        "def reset_index_with_string(df, string):\n",
        "    df = df.reset_index(drop=True)\n",
        "    df.index = [f\"{string}{i}\" for i in df.index.astype(str)]\n",
        "    return df\n"
      ]
    },
    {
      "cell_type": "code",
      "execution_count": 4,
      "metadata": {},
      "outputs": [
        {
          "name": "stderr",
          "output_type": "stream",
          "text": [
            "/var/folders/lp/71p77wmn3x7dxlg4mnwx61cw0000gq/T/ipykernel_83608/897479971.py:14: MarkupResemblesLocatorWarning: The input looks more like a filename than markup. You may want to open this file and pass the filehandle into Beautiful Soup.\n",
            "  return BeautifulSoup(text, \"html.parser\").get_text()\n"
          ]
        },
        {
          "name": "stdout",
          "output_type": "stream",
          "text": [
            "<class 'pandas.core.frame.DataFrame'>\n",
            "RangeIndex: 131 entries, 0 to 130\n",
            "Columns: 125 entries, uniquecolumnheading to year\n",
            "dtypes: object(125)\n",
            "memory usage: 128.1+ KB\n"
          ]
        },
        {
          "data": {
            "text/plain": [
              "None"
            ]
          },
          "metadata": {},
          "output_type": "display_data"
        },
        {
          "name": "stdout",
          "output_type": "stream",
          "text": [
            "125\n"
          ]
        },
        {
          "name": "stderr",
          "output_type": "stream",
          "text": [
            "/var/folders/lp/71p77wmn3x7dxlg4mnwx61cw0000gq/T/ipykernel_83608/897479971.py:14: MarkupResemblesLocatorWarning: The input looks more like a filename than markup. You may want to open this file and pass the filehandle into Beautiful Soup.\n",
            "  return BeautifulSoup(text, \"html.parser\").get_text()\n"
          ]
        },
        {
          "name": "stdout",
          "output_type": "stream",
          "text": [
            "<class 'pandas.core.frame.DataFrame'>\n",
            "RangeIndex: 164 entries, 0 to 163\n",
            "Columns: 125 entries, uniquecolumnheading to year\n",
            "dtypes: object(125)\n",
            "memory usage: 160.3+ KB\n"
          ]
        },
        {
          "data": {
            "text/plain": [
              "None"
            ]
          },
          "metadata": {},
          "output_type": "display_data"
        },
        {
          "name": "stdout",
          "output_type": "stream",
          "text": [
            "125\n",
            "125\n",
            "['uniquecolumnheading', 'self-employed', 'num-employees', 'tech-employer', 'tech-role', 'mental-health-benefits', 'know-mental-health-options', 'discussed-mental-health', 'mental-health-resources', 'anonymity-protected', 'mental-health-leave-ease', 'comfort-discussing-health', 'discuss-mental-health-supervisor', 'discussed-mental-health-employer', 'mental-health-talk-employer', 'discuss-mental-health-coworkers', 'discussed-mental-health-coworkers', 'mental-health-talk-coworkers', 'coworker-mental-health-discussion', 'coworker-mental-health-talk']\n",
            "['importance-physical-health', 'importance-mental-health', 'mental-health-coverage', 'know-mental-health-resources', 'reveal-mental-health-clients', 'effect-reveal-mental-health', 'reveal-mental-health-coworkers', 'impact-reveal-mental-health', 'productivity-mental-health', 'percentage-affected-mental-health', 'previous-employers', 'previous-tech-employer', 'previous-mental-health-benefits', 'aware-previous-mental-health-options', 'discussed-mental-health-previous', 'previous-mental-health-resources', 'previous-anonymity-protected', 'previous-comfort-discussing-health', 'previous-discuss-mental-health-supervisor', 'previous-discussed-mental-health']\n",
            "['previous-mental-health-talk-employer', 'previous-discuss-mental-health-coworkers', 'previous-discussed-mental-health-coworkers', 'previous-mental-health-talk-coworkers', 'previous-coworker-mental-health-discussion', 'previous-coworker-mental-health-talk', 'previous-importance-physical-health', 'previous-importance-mental-health', 'current-mental-health-disorder', 'diagnosed-mental-health', 'anxiety-disorder', 'mood-disorder', 'psychotic-disorder', 'eating-disorder', 'adhd', 'personality-disorder', 'ocd', 'ptsd1', 'stress-response', 'dissociative-disorder']\n",
            "['substance-use', 'addictive-disorder', 'other', 'anxiety-disorder1', 'mood-disorder1', 'psychotic-disorder1', 'eating-disorder1', 'adhd1', 'personality-disorder1', 'ocd1', 'ptsd1', 'stress-response1', 'dissociative-disorder1', 'substance-use1', 'addictive-disorder1', 'other1', 'anxiety-disorder2', 'mood-disorder2', 'psychotic-disorder2', 'eating-disorder2']\n",
            "['adhd2', 'personality-disorder2', 'ocd2', 'ptsd2', 'stress-response2', 'dissociative-disorder2', 'substance-use2', 'addictive-disorder2', 'other2', 'past-mental-health-disorder', 'sought-treatment', 'family-history-mental-illness', 'mental-health-interference-treated', 'mental-health-interference-untreated', 'observations-mental-health-discussion', 'share-mental-illness', 'physical-health-interview', 'physical-health-reason', 'mental-health-interview', 'mental-health-reason']\n",
            "['open-mental-health', 'mental-health-career', 'mental-health-career-effect', 'team-reaction', 'unsupportive-response', 'unsupportive-response-details', 'supportive-response', 'supportive-response-details', 'industry-support', 'improve-industry-support', 'additional-comments', 'interview-mental-health', 'age', 'gender', 'country-live', 'us-state-live', 'race', 'other', 'country-work', 'us-state-work']\n",
            "['covid-19-diagnosis', 'start-date', 'submit-date', 'network-id', 'year']\n"
          ]
        },
        {
          "name": "stderr",
          "output_type": "stream",
          "text": [
            "/var/folders/lp/71p77wmn3x7dxlg4mnwx61cw0000gq/T/ipykernel_83608/897479971.py:14: MarkupResemblesLocatorWarning: The input looks more like a filename than markup. You may want to open this file and pass the filehandle into Beautiful Soup.\n",
            "  return BeautifulSoup(text, \"html.parser\").get_text()\n"
          ]
        }
      ],
      "source": [
        "column_mapping = {\n",
        "    'are-you-self-employed' : 'self-employed', \n",
        "    'how-many-employees-does-your-company-or-organization-have' : 'num-employees', \n",
        "    'is-your-employer-primarily-a-tech-companyorganization' : 'tech-employer', \n",
        "    'is-your-primary-role-within-your-company-related-to-techit' : 'tech-role', \n",
        "    'does-your-employer-provide-mental-health-benefits-as-part-of-healthcare-coverage' : 'mental-health-benefits', \n",
        "    'do-you-know-the-options-for-mental-health-care-available-under-your-employer-provided-health-coverage' : 'know-mental-health-options', \n",
        "    'has-your-employer-ever-formally-discussed-mental-health-for-example-as-part-of-a-wellness-campaign-or-other-official-communication' : 'discussed-mental-health', \n",
        "    'does-your-employer-offer-resources-to-learn-more-about-mental-health-disorders-and-options-for-seeking-help' : 'mental-health-resources', \n",
        "    'is-your-anonymity-protected-if-you-choose-to-take-advantage-of-mental-health-or-substance-abuse-treatment-resources-provided-by-your-employer' : 'anonymity-protected', \n",
        "    'if-a-mental-health-issue-prompted-you-to-request-a-medical-leave-from-work-how-easy-or-difficult-would-it-be-to-ask-for-that-leave' : 'mental-health-leave-ease', \n",
        "    'would-you-feel-more-comfortable-talking-to-your-coworkers-about-your-physical-health-or-your-mental-health' : 'comfort-discussing-health', \n",
        "    'would-you-feel-comfortable-discussing-a-mental-health-issue-with-your-direct-supervisors' : 'discuss-mental-health-supervisor', \n",
        "    'have-you-ever-discussed-your-mental-health-with-your-employer' : 'discussed-mental-health-employer', \n",
        "    'describe-the-conversation-you-had-with-your-employer-about-your-mental-health-including-their-reactions-and-what-actions-were-taken-to-address-your-mental-health-issuequestions' : 'mental-health-talk-employer', \n",
        "    'would-you-feel-comfortable-discussing-a-mental-health-issue-with-your-coworkers' : 'discuss-mental-health-coworkers', \n",
        "    'have-you-ever-discussed-your-mental-health-with-coworkers' : 'discussed-mental-health-coworkers', \n",
        "    'describe-the-conversation-with-coworkers-you-had-about-your-mental-health-including-their-reactions' : 'mental-health-talk-coworkers', \n",
        "    'have-you-ever-had-a-coworker-discuss-their-or-another-coworkers-mental-health-with-you' : 'coworker-mental-health-discussion', \n",
        "    'describe-the-conversation-your-coworker-had-with-you-about-their-mental-health-please-do-not-use-names' : 'coworker-mental-health-talk', \n",
        "    'overall-how-much-importance-does-your-employer-place-on-physical-health' : 'importance-physical-health', \n",
        "    'overall-how-much-importance-does-your-employer-place-on-mental-health' : 'importance-mental-health', \n",
        "    'do-you-have-medical-coverage-private-insurance-or-state-provided-that-includes-treatment-of-mental-health-disorders' : 'mental-health-coverage', \n",
        "    'do-you-know-local-or-online-resources-to-seek-help-for-a-mental-health-issue' : 'know-mental-health-resources', \n",
        "    'if-you-have-been-diagnosed-or-treated-for-a-mental-health-disorder-do-you-ever-reveal-this-to-clients-or-business-contacts' : 'reveal-mental-health-clients', \n",
        "    'if-you-have-revealed-a-mental-health-disorder-to-a-client-or-business-contact-how-has-this-affected-you-or-the-relationship' : 'effect-reveal-mental-health', \n",
        "    'if-you-have-been-diagnosed-or-treated-for-a-mental-health-disorder-do-you-ever-reveal-this-to-coworkers-or-employees' : 'reveal-mental-health-coworkers', \n",
        "    'if-you-have-revealed-a-mental-health-disorder-to-a-coworker-or-employee-how-has-this-impacted-you-or-the-relationship' : 'impact-reveal-mental-health', \n",
        "    'do-you-believe-your-productivity-is-ever-affected-by-a-mental-health-issue' : 'productivity-mental-health', \n",
        "    'if-yes-what-percentage-of-your-work-time-time-performing-primary-or-secondary-job-functions-is-affected-by-a-mental-health-issue' : 'percentage-affected-mental-health', \n",
        "    'do-you-have-previous-employers' : 'previous-employers', \n",
        "    'was-your-employer-primarily-a-tech-companyorganization' : 'previous-tech-employer', \n",
        "    'have-your-previous-employers-provided-mental-health-benefits' : 'previous-mental-health-benefits', \n",
        "    'were-you-aware-of-the-options-for-mental-health-care-provided-by-your-previous-employers' : 'aware-previous-mental-health-options', \n",
        "    'did-your-previous-employers-ever-formally-discuss-mental-health-as-part-of-a-wellness-campaign-or-other-official-communication' : 'discussed-mental-health-previous', \n",
        "    'did-your-previous-employers-provide-resources-to-learn-more-about-mental-health-disorders-and-how-to-seek-help' : 'previous-mental-health-resources', \n",
        "    'was-your-anonymity-protected-if-you-chose-to-take-advantage-of-mental-health-or-substance-abuse-treatment-resources-with-previous-employers' : 'previous-anonymity-protected', \n",
        "    'would-you-have-felt-more-comfortable-talking-to-your-previous-employer-about-your-physical-health-or-your-mental-health' : 'previous-comfort-discussing-health', \n",
        "    'would-you-have-been-willing-to-discuss-your-mental-health-with-your-direct-supervisors' : 'previous-discuss-mental-health-supervisor', \n",
        "    'did-you-ever-discuss-your-mental-health-with-your-previous-employer' : 'previous-discussed-mental-health', \n",
        "    'describe-the-conversation-you-had-with-your-previous-employer-about-your-mental-health-including-their-reactions-and-actions-taken-to-address-your-mental-health-issuequestions' : 'previous-mental-health-talk-employer', \n",
        "    'would-you-have-been-willing-to-discuss-your-mental-health-with-your-coworkers-at-previous-employers' : 'previous-discuss-mental-health-coworkers', \n",
        "    'did-you-ever-discuss-your-mental-health-with-a-previous-coworkers' : 'previous-discussed-mental-health-coworkers', \n",
        "    'describe-the-conversation-you-had-with-your-previous-coworkers-about-your-mental-health-including-their-reactions' : 'previous-mental-health-talk-coworkers', \n",
        "    'did-you-ever-have-a-previous-coworker-discuss-their-or-another-coworkers-mental-health-with-you' : 'previous-coworker-mental-health-discussion', \n",
        "    'describe-the-conversation-your-coworker-had-with-you-about-their-mental-health-please-do-not-use-names1' : 'previous-coworker-mental-health-talk', \n",
        "    'overall-how-much-importance-did-your-previous-employer-place-on-physical-health' : 'previous-importance-physical-health', \n",
        "    'overall-how-much-importance-did-your-previous-employer-place-on-mental-health' : 'previous-importance-mental-health', \n",
        "    'do-you-currently-have-a-mental-health-disorder' : 'current-mental-health-disorder', \n",
        "    'have-you-ever-been-diagnosed-with-a-mental-health-disorder' : 'diagnosed-mental-health', \n",
        "    'anxiety-disorder-generalized-social-phobia-etc' : 'anxiety-disorder', \n",
        "    'mood-disorder-depression-bipolar-disorder-etc' : 'mood-disorder', \n",
        "    'psychotic-disorder-schizophrenia-schizoaffective-etc' : 'psychotic-disorder', \n",
        "    'eating-disorder-anorexia-bulimia-etc' : 'eating-disorder', \n",
        "    'attention-deficit-hyperactivity-disorder' : 'adhd', \n",
        "    'personality-disorder-borderline-antisocial-paranoid-etc' : 'personality-disorder', \n",
        "    'obsessive-compulsive-disorder' : 'ocd', \n",
        "    'post-traumatic-stress-disorder' : 'ptsd', \n",
        "    'stress-response-syndromes' : 'stress-response', \n",
        "    'dissociative-disorder' : 'dissociative-disorder', \n",
        "    'substance-use-disorder' : 'substance-use', \n",
        "    'addictive-disorder' : 'addictive-disorder', \n",
        "    'other' : 'other', \n",
        "    'anxiety-disorder-generalized-social-phobia-etc1' : 'anxiety-disorder1', \n",
        "    'mood-disorder-depression-bipolar-disorder-etc1' : 'mood-disorder1', \n",
        "    'psychotic-disorder-schizophrenia-schizoaffective-etc1' : 'psychotic-disorder1', \n",
        "    'eating-disorder-anorexia-bulimia-etc1' : 'eating-disorder1', \n",
        "    'attention-deficit-hyperactivity-disorder1' : 'adhd1', \n",
        "    'personality-disorder-borderline-antisocial-paranoid-etc1' : 'personality-disorder1', \n",
        "    'obsessive-compulsive-disorder1' : 'ocd1', \n",
        "    'post-traumatic-stress-disorder' : 'ptsd1', \n",
        "    'stress-response-syndromes1' : 'stress-response1', \n",
        "    'dissociative-disorder1' : 'dissociative-disorder1', \n",
        "    'substance-use-disorder1' : 'substance-use1', \n",
        "    'addictive-disorder1' : 'addictive-disorder1', \n",
        "    'other1' : 'other1', \n",
        "    'anxiety-disorder-generalized-social-phobia-etc2' : 'anxiety-disorder2', \n",
        "    'mood-disorder-depression-bipolar-disorder-etc2' : 'mood-disorder2', \n",
        "    'psychotic-disorder-schizophrenia-schizoaffective-etc2' : 'psychotic-disorder2', \n",
        "    'eating-disorder-anorexia-bulimia-etc2' : 'eating-disorder2', \n",
        "    'attention-deficit-hyperactivity-disorder2' : 'adhd2', \n",
        "    'personality-disorder-borderline-antisocial-paranoid-etc2' : 'personality-disorder2', \n",
        "    'obsessive-compulsive-disorder2' : 'ocd2', \n",
        "    'post-traumatic-stress-disorder1' : 'ptsd2', \n",
        "    'stress-response-syndromes2' : 'stress-response2', \n",
        "    'dissociative-disorder2' : 'dissociative-disorder2', \n",
        "    'substance-use-disorder2' : 'substance-use2', \n",
        "    'addictive-disorder2' : 'addictive-disorder2', \n",
        "    'other2' : 'other2', \n",
        "    'have-you-had-a-mental-health-disorder-in-the-past' : 'past-mental-health-disorder', \n",
        "    'have-you-ever-sought-treatment-for-a-mental-health-disorder-from-a-mental-health-professional' : 'sought-treatment', \n",
        "    'do-you-have-a-family-history-of-mental-illness' : 'family-history-mental-illness', \n",
        "    'if-you-have-a-mental-health-disorder-how-often-do-you-feel-that-it-interferes-with-your-work-when-being-treated-effectively' : 'mental-health-interference-treated', \n",
        "    'if-you-have-a-mental-health-disorder-how-often-do-you-feel-that-it-interferes-with-your-work-when-not-being-treated-effectively-ie-when-you-are-experiencing-symptoms' : 'mental-health-interference-untreated', \n",
        "    'have-your-observations-of-how-another-individual-who-discussed-a-mental-health-issue-made-you-less-likely-to-reveal-a-mental-health-issue-yourself-in-your-current-workplace' : 'observations-mental-health-discussion', \n",
        "    'how-willing-would-you-be-to-share-with-friends-and-family-that-you-have-a-mental-illness' : 'share-mental-illness', \n",
        "    'would-you-be-willing-to-bring-up-a-physical-health-issue-with-a-potential-employer-in-an-interview' : 'physical-health-interview', \n",
        "    'why-or-why-not' : 'physical-health-reason', \n",
        "    'would-you-bring-up-your-mental-health-with-a-potential-employer-in-an-interview' : 'mental-health-interview', \n",
        "    'why-or-why-not1' : 'mental-health-reason', \n",
        "    'are-you-openly-identified-at-work-as-a-person-with-a-mental-health-issue' : 'open-mental-health', \n",
        "    'has-being-identified-as-a-person-with-a-mental-health-issue-affected-your-career' : 'mental-health-career', \n",
        "    'how-has-it-affected-your-career' : 'mental-health-career-effect', \n",
        "    'if-they-knew-you-suffered-from-a-mental-health-disorder-how-do-you-think-that-your-team-membersco-workers-would-react' : 'team-reaction', \n",
        "    'have-you-observed-or-experienced-an-unsupportive-or-badly-handled-response-to-a-mental-health-issue-in-your-current-or-previous-workplace' : 'unsupportive-response', \n",
        "    'describe-the-circumstances-of-the-badly-handled-or-unsupportive-response' : 'unsupportive-response-details', \n",
        "    'have-you-observed-or-experienced-a-supportive-or-well-handled-response-to-a-mental-health-issue-in-your-current-or-previous-workplace' : 'supportive-response', \n",
        "    'describe-the-circumstances-of-the-supportive-or-well-handled-response' : 'supportive-response-details', \n",
        "    'overall-how-well-do-you-think-the-tech-industry-supports-employees-with-mental-health-issues' : 'industry-support', \n",
        "    'briefly-describe-what-you-think-the-industry-as-a-whole-andor-employers-could-do-to-improve-mental-health-support-for-employees' : 'improve-industry-support', \n",
        "    'if-there-is-anything-else-you-would-like-to-tell-us-that-has-not-been-covered-by-the-survey-questions-please-use-this-space-to-do-so' : 'additional-comments', \n",
        "    'would-you-be-willing-to-talk-to-one-of-us-more-extensively-about-your-experiences-with-mental-health-issues-in-the-tech-industry-note-that-all-interview-responses-would-be-used-anonymously-and-only-with-your-permission' : 'interview-mental-health', \n",
        "    'what-is-your-age' : 'age', \n",
        "    'what-is-your-gender' : 'gender', \n",
        "    'what-country-do-you-live-in' : 'country-live', \n",
        "    'what-us-state-or-territory-do-you-live-in' : 'us-state-live', \n",
        "    'what-is-your-race' : 'race', \n",
        "    'other3' : 'other', \n",
        "    'what-country-do-you-work-in' : 'country-work', \n",
        "    'what-us-state-or-territory-do-you-work-in' : 'us-state-work', \n",
        "    'have-you-been-diagnosed-with-covid-19' : 'covid-19-diagnosis', \n",
        "    'response-type' : 'response-type', \n",
        "    'start-date-utc' : 'start-date', \n",
        "    'submit-date-utc' : 'submit-date', \n",
        "    'network-id' : 'network-id', \n",
        "    'tags' : 'tags'\n",
        "}\n",
        "\n",
        "# For 2021\n",
        "mhs_2021 = pd.read_csv(\"resources/2021.csv\", index_col=False)\n",
        "mhs_2021[\"year\"] = 2021\n",
        "mhs_2021.columns = [clean_text(col) for col in mhs_2021.columns]\n",
        "mhs_2021 = mhs_2021.apply(clean_row, axis=1)\n",
        "mhs_2021 = preprocess_df(mhs_2021)\n",
        "mhs_2021.rename(columns=column_mapping, inplace=True)\n",
        "display(mhs_2021.info())\n",
        "column_names_2021 = mhs_2021.columns.tolist()\n",
        "print(len(column_names_2021))\n",
        "# For 2022\n",
        "mhs_2022 = pd.read_csv(\"resources/2022.csv\", index_col=False)\n",
        "mhs_2022[\"year\"] = 2022\n",
        "mhs_2022.columns = [clean_text(col) for col in mhs_2022.columns]\n",
        "mhs_2022 = mhs_2022.apply(clean_row, axis=1)\n",
        "mhs_2022 = preprocess_df(mhs_2022)\n",
        "mhs_2022.rename(columns=column_mapping, inplace=True)\n",
        "display(mhs_2022.info())\n",
        "column_names_2022 = mhs_2022.columns.tolist()\n",
        "print(len(column_names_2022))\n",
        "# For 2023\n",
        "mhs_2023 = pd.read_csv(\"resources/2023.csv\", index_col=False)\n",
        "mhs_2023[\"year\"] = 2023\n",
        "mhs_2023.columns = [clean_text(col) for col in mhs_2023.columns]\n",
        "mhs_2023 = mhs_2023.apply(clean_row, axis=1)\n",
        "mhs_2023 = preprocess_df(mhs_2023)\n",
        "mhs_2023.rename(columns=column_mapping, inplace=True)\n",
        "\n",
        "column_names_2023 = mhs_2023.columns.tolist()\n",
        "print(len(column_names_2023))\n",
        "\n",
        "chunk_size = 20\n",
        "for i in range(0, len(column_names_2023), chunk_size):\n",
        "    print(column_names_2023[i:i+chunk_size])"
      ]
    },
    {
      "cell_type": "code",
      "execution_count": 5,
      "metadata": {
        "colab": {
          "base_uri": "https://localhost:8080/",
          "height": 724
        },
        "id": "G0eeFcNSLiW5",
        "outputId": "97852ee4-3cda-4bec-97a2-980ed4517829"
      },
      "outputs": [],
      "source": [
        "mhs_2021 = reset_index_with_string(mhs_2021, \"2021_\")\n",
        "mhs_2022 = reset_index_with_string(mhs_2022, \"2022_\")\n",
        "mhs_2023 = reset_index_with_string(mhs_2023, \"2023_\")\n"
      ]
    },
    {
      "cell_type": "code",
      "execution_count": 6,
      "metadata": {
        "colab": {
          "base_uri": "https://localhost:8080/",
          "height": 690
        },
        "id": "aLOv2WjFLijj",
        "outputId": "60151813-0aa6-4c8f-8043-89e5d94fa736"
      },
      "outputs": [],
      "source": [
        "# display(mhs_2021.head())\n",
        "# display(mhs_2022.head())\n",
        "# display(mhs_2023.head())\n",
        "\n",
        "merged_mhs = pd.concat([mhs_2021, mhs_2022, mhs_2023], axis=0)\n",
        "merged_mhs.convert_dtypes()\n",
        "merged_mhs.to_csv(\"resources/merged_mhs.csv\", index=False)\n",
        "# text_cols = []\n",
        "\n",
        "# def check_if_big_string(col):\n",
        "#     for x in col.values:\n",
        "#         if isinstance(x, str) and len(x) > 12:\n",
        "#             return True\n",
        "#     return False\n",
        "\n",
        "# for col in merged_mhs.columns:\n",
        "#     if check_if_big_string(merged_mhs[col]):\n",
        "#         text_cols.append(col)\n",
        "# unique_values_by_col = {}\n",
        "\n",
        "# for col in merged_mhs.columns:\n",
        "#     col_series = merged_mhs[col].squeeze()\n",
        "#     unique_values = col_series.unique()\n",
        "#     unique_values_by_col[col] = unique_values.tolist()\n",
        "\n",
        "# for col, values in unique_values_by_col.items():\n",
        "#     print(\"{col}: {values}\")\n",
        "\n",
        "# print(f\"{len(text_cols)}: \", text_cols)\n",
        "# merged_mhs.head(25)"
      ]
    },
    {
      "cell_type": "code",
      "execution_count": null,
      "metadata": {
        "colab": {
          "base_uri": "https://localhost:8080/",
          "height": 1000
        },
        "id": "CJrnvLEsLi3t",
        "outputId": "2f6a51f7-90c9-4edf-8afc-25b93caff22b"
      },
      "outputs": [],
      "source": [
        "\n",
        "\n",
        "\n",
        "\n",
        "\n"
      ]
    }
  ],
  "metadata": {
    "colab": {
      "provenance": []
    },
    "kernelspec": {
      "display_name": "Python 3 (ipykernel)",
      "language": "python",
      "name": "python3"
    },
    "language_info": {
      "codemirror_mode": {
        "name": "ipython",
        "version": 3
      },
      "file_extension": ".py",
      "mimetype": "text/x-python",
      "name": "python",
      "nbconvert_exporter": "python",
      "pygments_lexer": "ipython3",
      "version": "3.11.7"
    }
  },
  "nbformat": 4,
  "nbformat_minor": 0
}
