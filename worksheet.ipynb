{
 "cells": [
  {
   "cell_type": "code",
   "execution_count": 24,
   "metadata": {},
   "outputs": [
    {
     "name": "stderr",
     "output_type": "stream",
     "text": [
      "/var/folders/lp/71p77wmn3x7dxlg4mnwx61cw0000gq/T/ipykernel_28535/450316018.py:12: MarkupResemblesLocatorWarning: The input looks more like a filename than markup. You may want to open this file and pass the filehandle into Beautiful Soup.\n",
      "  return BeautifulSoup(text, \"html.parser\").get_text()\n",
      "/var/folders/lp/71p77wmn3x7dxlg4mnwx61cw0000gq/T/ipykernel_28535/450316018.py:12: MarkupResemblesLocatorWarning: The input looks more like a filename than markup. You may want to open this file and pass the filehandle into Beautiful Soup.\n",
      "  return BeautifulSoup(text, \"html.parser\").get_text()\n",
      "/var/folders/lp/71p77wmn3x7dxlg4mnwx61cw0000gq/T/ipykernel_28535/450316018.py:12: MarkupResemblesLocatorWarning: The input looks more like a filename than markup. You may want to open this file and pass the filehandle into Beautiful Soup.\n",
      "  return BeautifulSoup(text, \"html.parser\").get_text()\n",
      "/var/folders/lp/71p77wmn3x7dxlg4mnwx61cw0000gq/T/ipykernel_28535/450316018.py:12: MarkupResemblesLocatorWarning: The input looks more like a filename than markup. You may want to open this file and pass the filehandle into Beautiful Soup.\n",
      "  return BeautifulSoup(text, \"html.parser\").get_text()\n",
      "/var/folders/lp/71p77wmn3x7dxlg4mnwx61cw0000gq/T/ipykernel_28535/450316018.py:12: MarkupResemblesLocatorWarning: The input looks more like a filename than markup. You may want to open this file and pass the filehandle into Beautiful Soup.\n",
      "  return BeautifulSoup(text, \"html.parser\").get_text()\n",
      "/var/folders/lp/71p77wmn3x7dxlg4mnwx61cw0000gq/T/ipykernel_28535/450316018.py:12: MarkupResemblesLocatorWarning: The input looks more like a filename than markup. You may want to open this file and pass the filehandle into Beautiful Soup.\n",
      "  return BeautifulSoup(text, \"html.parser\").get_text()\n",
      "/var/folders/lp/71p77wmn3x7dxlg4mnwx61cw0000gq/T/ipykernel_28535/450316018.py:12: MarkupResemblesLocatorWarning: The input looks more like a filename than markup. You may want to open this file and pass the filehandle into Beautiful Soup.\n",
      "  return BeautifulSoup(text, \"html.parser\").get_text()\n",
      "/var/folders/lp/71p77wmn3x7dxlg4mnwx61cw0000gq/T/ipykernel_28535/450316018.py:12: MarkupResemblesLocatorWarning: The input looks more like a filename than markup. You may want to open this file and pass the filehandle into Beautiful Soup.\n",
      "  return BeautifulSoup(text, \"html.parser\").get_text()\n"
     ]
    }
   ],
   "source": [
    "import pandas as pd\n",
    "from prophet import Prophet\n",
    "import datetime as dt\n",
    "import numpy as np\n",
    "from bs4 import BeautifulSoup\n",
    "import markdown\n",
    "import string\n",
    "import re\n",
    "import matplotlib.pyplot as plt\n",
    "\n",
    "def remove_html_tags(text):\n",
    "    return BeautifulSoup(text, \"html.parser\").get_text()\n",
    "\n",
    "# Function to remove Markdown\n",
    "def remove_markdown(text):\n",
    "    html = markdown.markdown(text)\n",
    "    return BeautifulSoup(html, \"html.parser\").get_text()\n",
    "\n",
    "def clean_row(row):\n",
    "    return row.apply(lambda x: remove_markdown(remove_html_tags(x)) if isinstance(x, str) else x)\n",
    "\n",
    "def clean_text(text):\n",
    "    text = re.sub(r'-', ' ', text)\n",
    "    # Remove punctuation\n",
    "    text = text.translate(str.maketrans('', '', string.punctuation))\n",
    "    # Convert to lowercase\n",
    "    text = text.lower()\n",
    "    # Replace spaces with dashes\n",
    "    text = re.sub(r'\\s+', '-', text)\n",
    "    return text\n",
    "\n",
    "mhs_2016 = pd.read_csv(\"resources/2016.csv\")\n",
    "mhs_2016 = mhs_2016.apply(clean_row, axis=1)\n",
    "mhs_2016.columns = [clean_text(col) for col in mhs_2016.columns]\n",
    "mhs_2016.reset_index(drop=True, inplace=True)\n",
    "\n",
    "mhs_2017 = pd.read_csv(\"resources/2017.csv\")\n",
    "mhs_2017 = mhs_2017.apply(clean_row, axis=1)\n",
    "mhs_2017.columns = [clean_text(col) for col in mhs_2017.columns]\n",
    "mhs_2017.reset_index(drop=True, inplace=True)\n",
    "\n",
    "mhs_2018 = pd.read_csv(\"resources/2018.csv\")\n",
    "mhs_2018 = mhs_2018.apply(clean_row, axis=1)\n",
    "mhs_2018.columns = [clean_text(col) for col in mhs_2018.columns]\n",
    "mhs_2018.reset_index(drop=True, inplace=True)\n",
    "\n",
    "mhs_2019 = pd.read_csv(\"resources/2019.csv\")\n",
    "mhs_2019 = mhs_2019.apply(clean_row, axis=1)\n",
    "mhs_2019.columns = [clean_text(col) for col in mhs_2019.columns]\n",
    "mhs_2019.reset_index(drop=True, inplace=True)\n",
    "\n",
    "mhs_2020 = pd.read_csv(\"resources/2020.csv\")\n",
    "mhs_2020 = mhs_2020.apply(clean_row, axis=1)\n",
    "mhs_2020.columns = [clean_text(col) for col in mhs_2020.columns]\n",
    "mhs_2020.reset_index(drop=True, inplace=True)\n",
    "\n",
    "mhs_2021 = pd.read_csv(\"resources/2021.csv\")\n",
    "mhs_2021 = mhs_2021.apply(clean_row, axis=1)\n",
    "mhs_2021.columns = [clean_text(col) for col in mhs_2021.columns]\n",
    "mhs_2021.reset_index(drop=True, inplace=True)\n",
    "\n",
    "mhs_2022 = pd.read_csv(\"resources/2022.csv\")\n",
    "mhs_2022 = mhs_2022.apply(clean_row, axis=1)\n",
    "mhs_2022.columns = [clean_text(col) for col in mhs_2022.columns]\n",
    "mhs_2022.reset_index(drop=True, inplace=True)\n",
    "\n",
    "mhs_2023 = pd.read_csv(\"resources/2023.csv\")\n",
    "mhs_2023 = mhs_2023.apply(clean_row, axis=1)\n",
    "mhs_2023.columns = [clean_text(col) for col in mhs_2023.columns]\n",
    "mhs_2023.reset_index(drop=True, inplace=True)\n",
    "\n"
   ]
  },
  {
   "cell_type": "code",
   "execution_count": 23,
   "metadata": {},
   "outputs": [
    {
     "ename": "InvalidIndexError",
     "evalue": "Reindexing only valid with uniquely valued Index objects",
     "output_type": "error",
     "traceback": [
      "\u001b[0;31m---------------------------------------------------------------------------\u001b[0m",
      "\u001b[0;31mInvalidIndexError\u001b[0m                         Traceback (most recent call last)",
      "Cell \u001b[0;32mIn[23], line 1\u001b[0m\n\u001b[0;32m----> 1\u001b[0m mhs_merged \u001b[38;5;241m=\u001b[39m pd\u001b[38;5;241m.\u001b[39mconcat([mhs_2016, mhs_2017, mhs_2018, mhs_2019, mhs_2020, mhs_2021, mhs_2022, mhs_2023], ignore_index\u001b[38;5;241m=\u001b[39m\u001b[38;5;28;01mTrue\u001b[39;00m)\n\u001b[1;32m      2\u001b[0m mhs_merged\u001b[38;5;241m.\u001b[39mhead()\n",
      "File \u001b[0;32m/opt/anaconda3/lib/python3.11/site-packages/pandas/core/reshape/concat.py:393\u001b[0m, in \u001b[0;36mconcat\u001b[0;34m(objs, axis, join, ignore_index, keys, levels, names, verify_integrity, sort, copy)\u001b[0m\n\u001b[1;32m    378\u001b[0m     copy \u001b[38;5;241m=\u001b[39m \u001b[38;5;28;01mFalse\u001b[39;00m\n\u001b[1;32m    380\u001b[0m op \u001b[38;5;241m=\u001b[39m _Concatenator(\n\u001b[1;32m    381\u001b[0m     objs,\n\u001b[1;32m    382\u001b[0m     axis\u001b[38;5;241m=\u001b[39maxis,\n\u001b[0;32m   (...)\u001b[0m\n\u001b[1;32m    390\u001b[0m     sort\u001b[38;5;241m=\u001b[39msort,\n\u001b[1;32m    391\u001b[0m )\n\u001b[0;32m--> 393\u001b[0m \u001b[38;5;28;01mreturn\u001b[39;00m op\u001b[38;5;241m.\u001b[39mget_result()\n",
      "File \u001b[0;32m/opt/anaconda3/lib/python3.11/site-packages/pandas/core/reshape/concat.py:676\u001b[0m, in \u001b[0;36m_Concatenator.get_result\u001b[0;34m(self)\u001b[0m\n\u001b[1;32m    674\u001b[0m         obj_labels \u001b[38;5;241m=\u001b[39m obj\u001b[38;5;241m.\u001b[39maxes[\u001b[38;5;241m1\u001b[39m \u001b[38;5;241m-\u001b[39m ax]\n\u001b[1;32m    675\u001b[0m         \u001b[38;5;28;01mif\u001b[39;00m \u001b[38;5;129;01mnot\u001b[39;00m new_labels\u001b[38;5;241m.\u001b[39mequals(obj_labels):\n\u001b[0;32m--> 676\u001b[0m             indexers[ax] \u001b[38;5;241m=\u001b[39m obj_labels\u001b[38;5;241m.\u001b[39mget_indexer(new_labels)\n\u001b[1;32m    678\u001b[0m     mgrs_indexers\u001b[38;5;241m.\u001b[39mappend((obj\u001b[38;5;241m.\u001b[39m_mgr, indexers))\n\u001b[1;32m    680\u001b[0m new_data \u001b[38;5;241m=\u001b[39m concatenate_managers(\n\u001b[1;32m    681\u001b[0m     mgrs_indexers, \u001b[38;5;28mself\u001b[39m\u001b[38;5;241m.\u001b[39mnew_axes, concat_axis\u001b[38;5;241m=\u001b[39m\u001b[38;5;28mself\u001b[39m\u001b[38;5;241m.\u001b[39mbm_axis, copy\u001b[38;5;241m=\u001b[39m\u001b[38;5;28mself\u001b[39m\u001b[38;5;241m.\u001b[39mcopy\n\u001b[1;32m    682\u001b[0m )\n",
      "File \u001b[0;32m/opt/anaconda3/lib/python3.11/site-packages/pandas/core/indexes/base.py:3875\u001b[0m, in \u001b[0;36mIndex.get_indexer\u001b[0;34m(self, target, method, limit, tolerance)\u001b[0m\n\u001b[1;32m   3872\u001b[0m \u001b[38;5;28mself\u001b[39m\u001b[38;5;241m.\u001b[39m_check_indexing_method(method, limit, tolerance)\n\u001b[1;32m   3874\u001b[0m \u001b[38;5;28;01mif\u001b[39;00m \u001b[38;5;129;01mnot\u001b[39;00m \u001b[38;5;28mself\u001b[39m\u001b[38;5;241m.\u001b[39m_index_as_unique:\n\u001b[0;32m-> 3875\u001b[0m     \u001b[38;5;28;01mraise\u001b[39;00m InvalidIndexError(\u001b[38;5;28mself\u001b[39m\u001b[38;5;241m.\u001b[39m_requires_unique_msg)\n\u001b[1;32m   3877\u001b[0m \u001b[38;5;28;01mif\u001b[39;00m \u001b[38;5;28mlen\u001b[39m(target) \u001b[38;5;241m==\u001b[39m \u001b[38;5;241m0\u001b[39m:\n\u001b[1;32m   3878\u001b[0m     \u001b[38;5;28;01mreturn\u001b[39;00m np\u001b[38;5;241m.\u001b[39marray([], dtype\u001b[38;5;241m=\u001b[39mnp\u001b[38;5;241m.\u001b[39mintp)\n",
      "\u001b[0;31mInvalidIndexError\u001b[0m: Reindexing only valid with uniquely valued Index objects"
     ]
    }
   ],
   "source": [
    "# mhs_merged = pd.concat([mhs_2016, mhs_2017, mhs_2018, mhs_2019, mhs_2020, mhs_2021, mhs_2022, mhs_2023], ignore_index=True)\n",
    "# mhs_merged.head()"
   ]
  }
 ],
 "metadata": {
  "kernelspec": {
   "display_name": "Python 3 (ipykernel)",
   "language": "python",
   "name": "python3"
  },
  "language_info": {
   "codemirror_mode": {
    "name": "ipython",
    "version": 3
   },
   "file_extension": ".py",
   "mimetype": "text/x-python",
   "name": "python",
   "nbconvert_exporter": "python",
   "pygments_lexer": "ipython3",
   "version": "3.11.7"
  }
 },
 "nbformat": 4,
 "nbformat_minor": 2
}
